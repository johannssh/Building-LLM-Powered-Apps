{
  "cells": [
    {
      "cell_type": "markdown",
      "metadata": {
        "id": "j9QUj7tH4msU"
      },
      "source": [
        "<a href=\"https://colab.research.google.com/github/wandb/edu/blob/main/llm-apps-course/notebooks/02.%20Generation.ipynb\" target=\"_parent\"><img src=\"https://colab.research.google.com/assets/colab-badge.svg\" alt=\"Open In Colab\"/></a>\n",
        "<!--- @wandbcode{llmapps-generation} -->"
      ]
    },
    {
      "cell_type": "markdown",
      "metadata": {
        "id": "9i9HDMjj4msZ"
      },
      "source": [
        "# Generation\n",
        "<!--- @wandbcode{llmapps-generation} -->\n",
        "\n",
        "In this notebook we will dive deeper on prompting the model by passing a better context by using available data from users questions and using the documentation files to generate better answers.\n"
      ]
    },
    {
      "cell_type": "markdown",
      "metadata": {
        "id": "em1tl7P14msa"
      },
      "source": [
        "### Setup"
      ]
    },
    {
      "cell_type": "code",
      "execution_count": 2,
      "metadata": {
        "id": "HOXBHKQK4msa"
      },
      "outputs": [],
      "source": [
        "%pip install -Uqqq rich openai tiktoken wandb tenacity"
      ]
    },
    {
      "cell_type": "code",
      "execution_count": 3,
      "metadata": {
        "id": "OUKuwa9P4msc"
      },
      "outputs": [],
      "source": [
        "import os\n",
        "import random\n",
        "\n",
        "import openai\n",
        "import tiktoken\n",
        "\n",
        "from pathlib import Path\n",
        "from pprint import pprint\n",
        "from getpass import getpass\n",
        "\n",
        "from rich.markdown import Markdown\n",
        "import pandas as pd\n",
        "from tenacity import (\n",
        "    retry,\n",
        "    stop_after_attempt,\n",
        "    wait_random_exponential, # for exponential backoff\n",
        ")\n",
        "import wandb\n",
        "from wandb.integration.openai import autolog"
      ]
    },
    {
      "cell_type": "markdown",
      "metadata": {
        "id": "5q8t9ITP4msd"
      },
      "source": [
        "You will need an OpenAI API key to run this notebook. You can get one [here](https://platform.openai.com/account/api-keys)."
      ]
    },
    {
      "cell_type": "code",
      "execution_count": 4,
      "metadata": {
        "id": "aqgsKVv_4msd",
        "colab": {
          "base_uri": "https://localhost:8080/"
        },
        "outputId": "7a076046-1e7a-4780-c25a-2a3a33cc5cbd"
      },
      "outputs": [
        {
          "output_type": "stream",
          "name": "stdout",
          "text": [
            "Paste your OpenAI key from: https://platform.openai.com/account/api-keys\n",
            "··········\n",
            "OpenAI API key configured\n"
          ]
        }
      ],
      "source": [
        "if os.getenv(\"OPENAI_API_KEY\") is None:\n",
        "  if any(['VSCODE' in x for x in os.environ.keys()]):\n",
        "    print('Please enter password in the VS Code prompt at the top of your VS Code window!')\n",
        "  os.environ[\"OPENAI_API_KEY\"] = getpass(\"Paste your OpenAI key from: https://platform.openai.com/account/api-keys\\n\")\n",
        "  openai.api_key = os.getenv(\"OPENAI_API_KEY\", \"\")\n",
        "\n",
        "assert os.getenv(\"OPENAI_API_KEY\", \"\").startswith(\"sk-\"), \"This doesn't look like a valid OpenAI API key\"\n",
        "print(\"OpenAI API key configured\")"
      ]
    },
    {
      "cell_type": "markdown",
      "metadata": {
        "id": "GFNTyZQN4mse"
      },
      "source": [
        "Let's enable W&B autologging to track our experiments."
      ]
    },
    {
      "cell_type": "code",
      "execution_count": 5,
      "metadata": {
        "id": "p7MhaSiR4mse",
        "colab": {
          "base_uri": "https://localhost:8080/",
          "height": 119
        },
        "outputId": "b64b93b8-ab12-4afb-8b60-fac9b83e049e"
      },
      "outputs": [
        {
          "output_type": "stream",
          "name": "stderr",
          "text": [
            "\u001b[34m\u001b[1mwandb\u001b[0m: Currently logged in as: \u001b[33mjohannshetti\u001b[0m. Use \u001b[1m`wandb login --relogin`\u001b[0m to force relogin\n"
          ]
        },
        {
          "output_type": "display_data",
          "data": {
            "text/plain": [
              "<IPython.core.display.HTML object>"
            ],
            "text/html": [
              "Tracking run with wandb version 0.15.9"
            ]
          },
          "metadata": {}
        },
        {
          "output_type": "display_data",
          "data": {
            "text/plain": [
              "<IPython.core.display.HTML object>"
            ],
            "text/html": [
              "Run data is saved locally in <code>/content/wandb/run-20230830_194158-ol6yw5fs</code>"
            ]
          },
          "metadata": {}
        },
        {
          "output_type": "display_data",
          "data": {
            "text/plain": [
              "<IPython.core.display.HTML object>"
            ],
            "text/html": [
              "Syncing run <strong><a href='https://wandb.ai/johannshetti/llmapps/runs/ol6yw5fs' target=\"_blank\">vague-disco-2</a></strong> to <a href='https://wandb.ai/johannshetti/llmapps' target=\"_blank\">Weights & Biases</a> (<a href='https://wandb.me/run' target=\"_blank\">docs</a>)<br/>"
            ]
          },
          "metadata": {}
        },
        {
          "output_type": "display_data",
          "data": {
            "text/plain": [
              "<IPython.core.display.HTML object>"
            ],
            "text/html": [
              " View project at <a href='https://wandb.ai/johannshetti/llmapps' target=\"_blank\">https://wandb.ai/johannshetti/llmapps</a>"
            ]
          },
          "metadata": {}
        },
        {
          "output_type": "display_data",
          "data": {
            "text/plain": [
              "<IPython.core.display.HTML object>"
            ],
            "text/html": [
              " View run at <a href='https://wandb.ai/johannshetti/llmapps/runs/ol6yw5fs' target=\"_blank\">https://wandb.ai/johannshetti/llmapps/runs/ol6yw5fs</a>"
            ]
          },
          "metadata": {}
        }
      ],
      "source": [
        "# start logging to W&B\n",
        "autolog({\"project\":\"llmapps\", \"job_type\": \"generation\"})"
      ]
    },
    {
      "cell_type": "markdown",
      "metadata": {
        "id": "UeuxO1ID4msf"
      },
      "source": [
        "# Generating synthetic support questions"
      ]
    },
    {
      "cell_type": "markdown",
      "metadata": {
        "id": "SuJBqma14msf"
      },
      "source": [
        "We will add a retry behavior in case we hit the API rate limit"
      ]
    },
    {
      "cell_type": "code",
      "execution_count": 6,
      "metadata": {
        "id": "DCr5cPdA4msf"
      },
      "outputs": [],
      "source": [
        "@retry(wait=wait_random_exponential(min=1, max=60), stop=stop_after_attempt(6))\n",
        "def completion_with_backoff(**kwargs):\n",
        "    return openai.ChatCompletion.create(**kwargs)"
      ]
    },
    {
      "cell_type": "code",
      "execution_count": 7,
      "metadata": {
        "id": "CXpnqii_4msg"
      },
      "outputs": [],
      "source": [
        "MODEL_NAME = \"gpt-3.5-turbo\"\n",
        "# MODEL_NAME = \"gpt-4\""
      ]
    },
    {
      "cell_type": "code",
      "execution_count": 8,
      "metadata": {
        "id": "j1eAbTdu4msg",
        "colab": {
          "base_uri": "https://localhost:8080/",
          "height": 97
        },
        "outputId": "f438c099-4c17-4995-bac3-6e207cb0dd5b"
      },
      "outputs": [
        {
          "output_type": "display_data",
          "data": {
            "text/plain": [
              "How can I troubleshoot and resolve issues with my W&B account login?                                               \n"
            ],
            "text/html": [
              "<pre style=\"white-space:pre;overflow-x:auto;line-height:normal;font-family:Menlo,'DejaVu Sans Mono',consolas,'Courier New',monospace\">How can I troubleshoot and resolve issues with my W&amp;B account login?                                               \n",
              "</pre>\n"
            ]
          },
          "metadata": {}
        },
        {
          "output_type": "display_data",
          "data": {
            "text/plain": [
              "How do I track the performance of different machine learning models in Weights & Biases?                           \n"
            ],
            "text/html": [
              "<pre style=\"white-space:pre;overflow-x:auto;line-height:normal;font-family:Menlo,'DejaVu Sans Mono',consolas,'Courier New',monospace\">How do I track the performance of different machine learning models in Weights &amp; Biases?                           \n",
              "</pre>\n"
            ]
          },
          "metadata": {}
        },
        {
          "output_type": "display_data",
          "data": {
            "text/plain": [
              "How can I view the historical training metrics and performance of my machine learning experiments in W&B?          \n"
            ],
            "text/html": [
              "<pre style=\"white-space:pre;overflow-x:auto;line-height:normal;font-family:Menlo,'DejaVu Sans Mono',consolas,'Courier New',monospace\">How can I view the historical training metrics and performance of my machine learning experiments in W&amp;B?          \n",
              "</pre>\n"
            ]
          },
          "metadata": {}
        },
        {
          "output_type": "display_data",
          "data": {
            "text/plain": [
              "\"Why am I getting an error message when trying to track an experiment using W&B?\"                                  \n"
            ],
            "text/html": [
              "<pre style=\"white-space:pre;overflow-x:auto;line-height:normal;font-family:Menlo,'DejaVu Sans Mono',consolas,'Courier New',monospace\">\"Why am I getting an error message when trying to track an experiment using W&amp;B?\"                                  \n",
              "</pre>\n"
            ]
          },
          "metadata": {}
        },
        {
          "output_type": "display_data",
          "data": {
            "text/plain": [
              "\"How do I save and export my visualizations in W&B?\"                                                               \n"
            ],
            "text/html": [
              "<pre style=\"white-space:pre;overflow-x:auto;line-height:normal;font-family:Menlo,'DejaVu Sans Mono',consolas,'Courier New',monospace\">\"How do I save and export my visualizations in W&amp;B?\"                                                               \n",
              "</pre>\n"
            ]
          },
          "metadata": {}
        }
      ],
      "source": [
        "system_prompt = \"You are a helpful assistant.\"\n",
        "user_prompt = \"Generate a support question from a W&B user\"\n",
        "\n",
        "def generate_and_print(system_prompt, user_prompt, n=5):\n",
        "    messages=[\n",
        "            {\"role\": \"system\", \"content\": system_prompt},\n",
        "            {\"role\": \"user\", \"content\": user_prompt},\n",
        "        ]\n",
        "    responses = completion_with_backoff(\n",
        "        model=MODEL_NAME,\n",
        "        messages=messages,\n",
        "        n = n,\n",
        "        )\n",
        "    for response in responses.choices:\n",
        "        generation = response.message.content\n",
        "        display(Markdown(generation))\n",
        "\n",
        "generate_and_print(system_prompt, user_prompt)"
      ]
    },
    {
      "cell_type": "markdown",
      "metadata": {
        "id": "V2QR4ygZ4msh"
      },
      "source": [
        "# Few Shot"
      ]
    },
    {
      "cell_type": "markdown",
      "metadata": {
        "id": "jxeM4fMK4msh"
      },
      "source": [
        "Let's read some user submitted queries from the file `examples.txt`. This file contains multiline questions separated by tabs (`\\t`)."
      ]
    },
    {
      "cell_type": "code",
      "execution_count": 9,
      "metadata": {
        "id": "6p51PX4s4msi",
        "colab": {
          "base_uri": "https://localhost:8080/"
        },
        "outputId": "5afa5828-0bba-493f-e699-1b925c8dedc4"
      },
      "outputs": [
        {
          "output_type": "stream",
          "name": "stdout",
          "text": [
            "--2023-08-30 19:44:51--  https://raw.githubusercontent.com/wandb/edu/main/llm-apps-course/notebooks/examples.txt\n",
            "Resolving raw.githubusercontent.com (raw.githubusercontent.com)... 185.199.108.133, 185.199.109.133, 185.199.110.133, ...\n",
            "Connecting to raw.githubusercontent.com (raw.githubusercontent.com)|185.199.108.133|:443... connected.\n",
            "HTTP request sent, awaiting response... 200 OK\n",
            "Length: 40595 (40K) [text/plain]\n",
            "Saving to: ‘examples.txt’\n",
            "\n",
            "examples.txt        100%[===================>]  39.64K  --.-KB/s    in 0.001s  \n",
            "\n",
            "2023-08-30 19:44:51 (60.8 MB/s) - ‘examples.txt’ saved [40595/40595]\n",
            "\n"
          ]
        }
      ],
      "source": [
        "# Test if examples.txt is present, download if not\n",
        "if not Path(\"examples.txt\").exists():\n",
        "    !wget https://raw.githubusercontent.com/wandb/edu/main/llm-apps-course/notebooks/examples.txt"
      ]
    },
    {
      "cell_type": "code",
      "execution_count": 10,
      "metadata": {
        "id": "UCSn69kV4msi",
        "colab": {
          "base_uri": "https://localhost:8080/",
          "height": 66
        },
        "outputId": "e66d73cb-2522-4cb4-a00a-e9748bbc4063"
      },
      "outputs": [
        {
          "output_type": "stream",
          "name": "stdout",
          "text": [
            "'We have 228 real queries:'\n"
          ]
        },
        {
          "output_type": "execute_result",
          "data": {
            "text/plain": [
              "Sample one: \"I have an config file apart from sweep_config file so when I try to run sweep agent, I am getting     \n",
              "UnboundLocalError(\"local variable 'config' referenced before assignment\").\"                                        \n"
            ],
            "text/html": [
              "<pre style=\"white-space:pre;overflow-x:auto;line-height:normal;font-family:Menlo,'DejaVu Sans Mono',consolas,'Courier New',monospace\">Sample one: \"I have an config file apart from sweep_config file so when I try to run sweep agent, I am getting     \n",
              "UnboundLocalError(\"local variable 'config' referenced before assignment\").\"                                        \n",
              "</pre>\n"
            ]
          },
          "metadata": {},
          "execution_count": 10
        }
      ],
      "source": [
        "delimiter = \"\\t\" # tab separated queries\n",
        "with open(\"examples.txt\", \"r\") as file:\n",
        "    data = file.read()\n",
        "    real_queries = data.split(delimiter)\n",
        "\n",
        "pprint(f\"We have {len(real_queries)} real queries:\")\n",
        "Markdown(f\"Sample one: \\n\\\"{random.choice(real_queries)}\\\"\")"
      ]
    },
    {
      "cell_type": "markdown",
      "metadata": {
        "id": "cdNXXtRl4msj"
      },
      "source": [
        "We can now use those real user questions to guide our model to produce synthetic questions like those."
      ]
    },
    {
      "cell_type": "code",
      "execution_count": 11,
      "metadata": {
        "id": "Ym3fZNsP4msj",
        "colab": {
          "base_uri": "https://localhost:8080/",
          "height": 241
        },
        "outputId": "8dd93160-9aab-4882-f862-00d15927f74c"
      },
      "outputs": [
        {
          "output_type": "execute_result",
          "data": {
            "text/plain": [
              "Generate a support question from a W&B user Below you will find a few examples of real user queries: can I use the \n",
              "column subsample parameter config file for xgboost parameters through sweeps? does w&b provide different templates \n",
              "for model evaluation? ok honey, another question for you: I am trying to compare the performance of adding         \n",
              "different features fro training in a regression problem. I am able to track the performance with each feature, but \n",
              "I am unable to see which result corresponds to which feature in the chart section. Currently I am doing:           \n",
              "wandb.init(project=\"dialect-creep\", config={})                                                                     \n",
              "\n",
              "for extra_feature in unique_features:                                                                              \n",
              "\n",
              "\u001b[48;2;39;40;34m                                                                                                                   \n",
              "\u001b[0m\u001b[48;2;39;40;34m \u001b[0m\u001b[48;2;39;40;34mwandb.config.update({'extra_feature': extra_feature})                                                            \u001b[0m\u001b[48;2;39;40;34m \u001b[0m\n",
              "\u001b[48;2;39;40;34m                                                                                                                   \n",
              "\u001b[0m\n",
              "But it is no working. What can I do? Let's think step by step Let's start!                                         \n"
            ],
            "text/html": [
              "<pre style=\"white-space:pre;overflow-x:auto;line-height:normal;font-family:Menlo,'DejaVu Sans Mono',consolas,'Courier New',monospace\">Generate a support question from a W&amp;B user Below you will find a few examples of real user queries: can I use the \n",
              "column subsample parameter config file for xgboost parameters through sweeps? does w&amp;b provide different templates \n",
              "for model evaluation? ok honey, another question for you: I am trying to compare the performance of adding         \n",
              "different features fro training in a regression problem. I am able to track the performance with each feature, but \n",
              "I am unable to see which result corresponds to which feature in the chart section. Currently I am doing:           \n",
              "wandb.init(project=\"dialect-creep\", config={})                                                                     \n",
              "\n",
              "for extra_feature in unique_features:                                                                              \n",
              "\n",
              "<span style=\"background-color: #272822\">                                                                                                                   \n",
              " wandb.config.update({'extra_feature': extra_feature})                                                             </span>\n",
              "<span style=\"background-color: #272822\">                                                                                                                   \n",
              "</span>\n",
              "But it is no working. What can I do? Let's think step by step Let's start!                                         \n",
              "</pre>\n"
            ]
          },
          "metadata": {},
          "execution_count": 11
        }
      ],
      "source": [
        "def generate_few_shot_prompt(queries, n=3):\n",
        "    prompt = \"Generate a support question from a W&B user\\n\" +\\\n",
        "        \"Below you will find a few examples of real user queries:\\n\"\n",
        "    for _ in range(n):\n",
        "        prompt += random.choice(queries) + \"\\n\"\n",
        "    prompt += \"Let's start!\"\n",
        "    return prompt\n",
        "\n",
        "generation_prompt = generate_few_shot_prompt(real_queries)\n",
        "Markdown(generation_prompt)\n"
      ]
    },
    {
      "cell_type": "markdown",
      "metadata": {
        "id": "1Fa131vj4msk"
      },
      "source": [
        "OpenAI `Chat` models are really good at following instructions with a few examples. Let's see how it does here. This is going to use some context from the prompt."
      ]
    },
    {
      "cell_type": "code",
      "execution_count": 12,
      "metadata": {
        "id": "jm4jEuQG4msk",
        "colab": {
          "base_uri": "https://localhost:8080/",
          "height": 721
        },
        "outputId": "9db37701-7413-494d-cad0-278af114fce7"
      },
      "outputs": [
        {
          "output_type": "display_data",
          "data": {
            "text/plain": [
              "Sure! Let's think step by step.                                                                                    \n",
              "\n",
              "To track the performance of adding different features for training in a regression problem, you can update the     \n",
              "\u001b[1;36;40mconfig\u001b[0m dictionary for each feature with a unique key-value pair. However, it seems that the current approach is not\n",
              "working for you. To troubleshoot the issue, let's go through the steps together.                                   \n",
              "\n",
              "Firstly, when you execute \u001b[1;36;40mwandb.init()\u001b[0m, make sure to pass the \u001b[1;36;40mreinit=True\u001b[0m argument to create a new run for each    \n",
              "iteration. This will ensure that each run is properly logged and displayed separately in the W&B interface.        \n",
              "\n",
              "Next, inside the loop where you are updating the \u001b[1;36;40mextra_feature\u001b[0m in \u001b[1;36;40mwandb.config\u001b[0m, you can manually create a unique   \n",
              "suffix for each feature by appending it to the run's name or ID. For example:                                      \n",
              "\n",
              "\u001b[48;2;39;40;34m                                                                                                                   \n",
              "\u001b[0m\u001b[48;2;39;40;34m \u001b[0m\u001b[38;2;248;248;242;48;2;39;40;34mrun_name\u001b[0m\u001b[38;2;248;248;242;48;2;39;40;34m \u001b[0m\u001b[38;2;255;70;137;48;2;39;40;34m=\u001b[0m\u001b[38;2;248;248;242;48;2;39;40;34m \u001b[0m\u001b[38;2;248;248;242;48;2;39;40;34mwandb\u001b[0m\u001b[38;2;255;70;137;48;2;39;40;34m.\u001b[0m\u001b[38;2;248;248;242;48;2;39;40;34mrun\u001b[0m\u001b[38;2;255;70;137;48;2;39;40;34m.\u001b[0m\u001b[38;2;248;248;242;48;2;39;40;34mname\u001b[0m\u001b[38;2;248;248;242;48;2;39;40;34m \u001b[0m\u001b[38;2;102;217;239;48;2;39;40;34mif\u001b[0m\u001b[38;2;248;248;242;48;2;39;40;34m \u001b[0m\u001b[38;2;248;248;242;48;2;39;40;34mwandb\u001b[0m\u001b[38;2;255;70;137;48;2;39;40;34m.\u001b[0m\u001b[38;2;248;248;242;48;2;39;40;34mrun\u001b[0m\u001b[38;2;255;70;137;48;2;39;40;34m.\u001b[0m\u001b[38;2;248;248;242;48;2;39;40;34mname\u001b[0m\u001b[38;2;248;248;242;48;2;39;40;34m \u001b[0m\u001b[38;2;102;217;239;48;2;39;40;34melse\u001b[0m\u001b[38;2;248;248;242;48;2;39;40;34m \u001b[0m\u001b[38;2;248;248;242;48;2;39;40;34mwandb\u001b[0m\u001b[38;2;255;70;137;48;2;39;40;34m.\u001b[0m\u001b[38;2;248;248;242;48;2;39;40;34mrun\u001b[0m\u001b[38;2;255;70;137;48;2;39;40;34m.\u001b[0m\u001b[38;2;248;248;242;48;2;39;40;34mid\u001b[0m\u001b[48;2;39;40;34m                                                    \u001b[0m\u001b[48;2;39;40;34m \u001b[0m\n",
              "\u001b[48;2;39;40;34m \u001b[0m\u001b[48;2;39;40;34m                                                                                                                 \u001b[0m\u001b[48;2;39;40;34m \u001b[0m\n",
              "\u001b[48;2;39;40;34m \u001b[0m\u001b[38;2;102;217;239;48;2;39;40;34mfor\u001b[0m\u001b[38;2;248;248;242;48;2;39;40;34m \u001b[0m\u001b[38;2;248;248;242;48;2;39;40;34mextra_feature\u001b[0m\u001b[38;2;248;248;242;48;2;39;40;34m \u001b[0m\u001b[38;2;255;70;137;48;2;39;40;34min\u001b[0m\u001b[38;2;248;248;242;48;2;39;40;34m \u001b[0m\u001b[38;2;248;248;242;48;2;39;40;34munique_features\u001b[0m\u001b[38;2;248;248;242;48;2;39;40;34m:\u001b[0m\u001b[48;2;39;40;34m                                                                            \u001b[0m\u001b[48;2;39;40;34m \u001b[0m\n",
              "\u001b[48;2;39;40;34m \u001b[0m\u001b[38;2;248;248;242;48;2;39;40;34m    \u001b[0m\u001b[38;2;248;248;242;48;2;39;40;34mnew_run_name\u001b[0m\u001b[38;2;248;248;242;48;2;39;40;34m \u001b[0m\u001b[38;2;255;70;137;48;2;39;40;34m=\u001b[0m\u001b[38;2;248;248;242;48;2;39;40;34m \u001b[0m\u001b[38;2;230;219;116;48;2;39;40;34mf\u001b[0m\u001b[38;2;230;219;116;48;2;39;40;34m\"\u001b[0m\u001b[38;2;230;219;116;48;2;39;40;34m{\u001b[0m\u001b[38;2;248;248;242;48;2;39;40;34mrun_name\u001b[0m\u001b[38;2;230;219;116;48;2;39;40;34m}\u001b[0m\u001b[38;2;230;219;116;48;2;39;40;34m_\u001b[0m\u001b[38;2;230;219;116;48;2;39;40;34m{\u001b[0m\u001b[38;2;248;248;242;48;2;39;40;34mextra_feature\u001b[0m\u001b[38;2;230;219;116;48;2;39;40;34m}\u001b[0m\u001b[38;2;230;219;116;48;2;39;40;34m\"\u001b[0m\u001b[48;2;39;40;34m                                                                 \u001b[0m\u001b[48;2;39;40;34m \u001b[0m\n",
              "\u001b[48;2;39;40;34m \u001b[0m\u001b[38;2;248;248;242;48;2;39;40;34m    \u001b[0m\u001b[38;2;248;248;242;48;2;39;40;34mwandb\u001b[0m\u001b[38;2;255;70;137;48;2;39;40;34m.\u001b[0m\u001b[38;2;248;248;242;48;2;39;40;34mrun\u001b[0m\u001b[38;2;255;70;137;48;2;39;40;34m.\u001b[0m\u001b[38;2;248;248;242;48;2;39;40;34mname\u001b[0m\u001b[38;2;248;248;242;48;2;39;40;34m \u001b[0m\u001b[38;2;255;70;137;48;2;39;40;34m=\u001b[0m\u001b[38;2;248;248;242;48;2;39;40;34m \u001b[0m\u001b[38;2;248;248;242;48;2;39;40;34mnew_run_name\u001b[0m\u001b[48;2;39;40;34m                                                                                \u001b[0m\u001b[48;2;39;40;34m \u001b[0m\n",
              "\u001b[48;2;39;40;34m \u001b[0m\u001b[38;2;248;248;242;48;2;39;40;34m    \u001b[0m\u001b[38;2;248;248;242;48;2;39;40;34mwandb\u001b[0m\u001b[38;2;255;70;137;48;2;39;40;34m.\u001b[0m\u001b[38;2;248;248;242;48;2;39;40;34mconfig\u001b[0m\u001b[38;2;255;70;137;48;2;39;40;34m.\u001b[0m\u001b[38;2;248;248;242;48;2;39;40;34mextra_feature\u001b[0m\u001b[38;2;248;248;242;48;2;39;40;34m \u001b[0m\u001b[38;2;255;70;137;48;2;39;40;34m=\u001b[0m\u001b[38;2;248;248;242;48;2;39;40;34m \u001b[0m\u001b[38;2;248;248;242;48;2;39;40;34mextra_feature\u001b[0m\u001b[48;2;39;40;34m                                                                   \u001b[0m\u001b[48;2;39;40;34m \u001b[0m\n",
              "\u001b[48;2;39;40;34m \u001b[0m\u001b[38;2;248;248;242;48;2;39;40;34m    \u001b[0m\u001b[48;2;39;40;34m                                                                                                             \u001b[0m\u001b[48;2;39;40;34m \u001b[0m\n",
              "\u001b[48;2;39;40;34m \u001b[0m\u001b[38;2;248;248;242;48;2;39;40;34m    \u001b[0m\u001b[38;2;149;144;119;48;2;39;40;34m# Rest of your code for training and tracking the performance\u001b[0m\u001b[48;2;39;40;34m                                                \u001b[0m\u001b[48;2;39;40;34m \u001b[0m\n",
              "\u001b[48;2;39;40;34m                                                                                                                   \n",
              "\u001b[0m\n",
              "By updating the \u001b[1;36;40mwandb.run.name\u001b[0m attribute with the current feature value, you can create unique run names for each  \n",
              "feature. Additionally, you are updating the \u001b[1;36;40mextra_feature\u001b[0m key in the \u001b[1;36;40mwandb.config\u001b[0m dictionary with the current      \n",
              "feature value.                                                                                                     \n",
              "\n",
              "This way, you will have separate runs for each feature, and in the W&B interface, you will be able to analyze the  \n",
              "performance corresponding to each feature by filtering and comparing the different runs.                           \n",
              "\n",
              "Give it a try, and let me know if you have any further questions or issues!                                        \n"
            ],
            "text/html": [
              "<pre style=\"white-space:pre;overflow-x:auto;line-height:normal;font-family:Menlo,'DejaVu Sans Mono',consolas,'Courier New',monospace\">Sure! Let's think step by step.                                                                                    \n",
              "\n",
              "To track the performance of adding different features for training in a regression problem, you can update the     \n",
              "<span style=\"color: #008080; text-decoration-color: #008080; background-color: #000000; font-weight: bold\">config</span> dictionary for each feature with a unique key-value pair. However, it seems that the current approach is not\n",
              "working for you. To troubleshoot the issue, let's go through the steps together.                                   \n",
              "\n",
              "Firstly, when you execute <span style=\"color: #008080; text-decoration-color: #008080; background-color: #000000; font-weight: bold\">wandb.init()</span>, make sure to pass the <span style=\"color: #008080; text-decoration-color: #008080; background-color: #000000; font-weight: bold\">reinit=True</span> argument to create a new run for each    \n",
              "iteration. This will ensure that each run is properly logged and displayed separately in the W&amp;B interface.        \n",
              "\n",
              "Next, inside the loop where you are updating the <span style=\"color: #008080; text-decoration-color: #008080; background-color: #000000; font-weight: bold\">extra_feature</span> in <span style=\"color: #008080; text-decoration-color: #008080; background-color: #000000; font-weight: bold\">wandb.config</span>, you can manually create a unique   \n",
              "suffix for each feature by appending it to the run's name or ID. For example:                                      \n",
              "\n",
              "<span style=\"background-color: #272822\">                                                                                                                   \n",
              " </span><span style=\"color: #f8f8f2; text-decoration-color: #f8f8f2; background-color: #272822\">run_name </span><span style=\"color: #ff4689; text-decoration-color: #ff4689; background-color: #272822\">=</span><span style=\"color: #f8f8f2; text-decoration-color: #f8f8f2; background-color: #272822\"> wandb</span><span style=\"color: #ff4689; text-decoration-color: #ff4689; background-color: #272822\">.</span><span style=\"color: #f8f8f2; text-decoration-color: #f8f8f2; background-color: #272822\">run</span><span style=\"color: #ff4689; text-decoration-color: #ff4689; background-color: #272822\">.</span><span style=\"color: #f8f8f2; text-decoration-color: #f8f8f2; background-color: #272822\">name </span><span style=\"color: #66d9ef; text-decoration-color: #66d9ef; background-color: #272822\">if</span><span style=\"color: #f8f8f2; text-decoration-color: #f8f8f2; background-color: #272822\"> wandb</span><span style=\"color: #ff4689; text-decoration-color: #ff4689; background-color: #272822\">.</span><span style=\"color: #f8f8f2; text-decoration-color: #f8f8f2; background-color: #272822\">run</span><span style=\"color: #ff4689; text-decoration-color: #ff4689; background-color: #272822\">.</span><span style=\"color: #f8f8f2; text-decoration-color: #f8f8f2; background-color: #272822\">name </span><span style=\"color: #66d9ef; text-decoration-color: #66d9ef; background-color: #272822\">else</span><span style=\"color: #f8f8f2; text-decoration-color: #f8f8f2; background-color: #272822\"> wandb</span><span style=\"color: #ff4689; text-decoration-color: #ff4689; background-color: #272822\">.</span><span style=\"color: #f8f8f2; text-decoration-color: #f8f8f2; background-color: #272822\">run</span><span style=\"color: #ff4689; text-decoration-color: #ff4689; background-color: #272822\">.</span><span style=\"color: #f8f8f2; text-decoration-color: #f8f8f2; background-color: #272822\">id</span><span style=\"background-color: #272822\">                                                     </span>\n",
              "<span style=\"background-color: #272822\">                                                                                                                   </span>\n",
              "<span style=\"background-color: #272822\"> </span><span style=\"color: #66d9ef; text-decoration-color: #66d9ef; background-color: #272822\">for</span><span style=\"color: #f8f8f2; text-decoration-color: #f8f8f2; background-color: #272822\"> extra_feature </span><span style=\"color: #ff4689; text-decoration-color: #ff4689; background-color: #272822\">in</span><span style=\"color: #f8f8f2; text-decoration-color: #f8f8f2; background-color: #272822\"> unique_features:</span><span style=\"background-color: #272822\">                                                                             </span>\n",
              "<span style=\"background-color: #272822\"> </span><span style=\"color: #f8f8f2; text-decoration-color: #f8f8f2; background-color: #272822\">    new_run_name </span><span style=\"color: #ff4689; text-decoration-color: #ff4689; background-color: #272822\">=</span><span style=\"color: #f8f8f2; text-decoration-color: #f8f8f2; background-color: #272822\"> </span><span style=\"color: #e6db74; text-decoration-color: #e6db74; background-color: #272822\">f\"{</span><span style=\"color: #f8f8f2; text-decoration-color: #f8f8f2; background-color: #272822\">run_name</span><span style=\"color: #e6db74; text-decoration-color: #e6db74; background-color: #272822\">}_{</span><span style=\"color: #f8f8f2; text-decoration-color: #f8f8f2; background-color: #272822\">extra_feature</span><span style=\"color: #e6db74; text-decoration-color: #e6db74; background-color: #272822\">}\"</span><span style=\"background-color: #272822\">                                                                  </span>\n",
              "<span style=\"background-color: #272822\"> </span><span style=\"color: #f8f8f2; text-decoration-color: #f8f8f2; background-color: #272822\">    wandb</span><span style=\"color: #ff4689; text-decoration-color: #ff4689; background-color: #272822\">.</span><span style=\"color: #f8f8f2; text-decoration-color: #f8f8f2; background-color: #272822\">run</span><span style=\"color: #ff4689; text-decoration-color: #ff4689; background-color: #272822\">.</span><span style=\"color: #f8f8f2; text-decoration-color: #f8f8f2; background-color: #272822\">name </span><span style=\"color: #ff4689; text-decoration-color: #ff4689; background-color: #272822\">=</span><span style=\"color: #f8f8f2; text-decoration-color: #f8f8f2; background-color: #272822\"> new_run_name</span><span style=\"background-color: #272822\">                                                                                 </span>\n",
              "<span style=\"background-color: #272822\"> </span><span style=\"color: #f8f8f2; text-decoration-color: #f8f8f2; background-color: #272822\">    wandb</span><span style=\"color: #ff4689; text-decoration-color: #ff4689; background-color: #272822\">.</span><span style=\"color: #f8f8f2; text-decoration-color: #f8f8f2; background-color: #272822\">config</span><span style=\"color: #ff4689; text-decoration-color: #ff4689; background-color: #272822\">.</span><span style=\"color: #f8f8f2; text-decoration-color: #f8f8f2; background-color: #272822\">extra_feature </span><span style=\"color: #ff4689; text-decoration-color: #ff4689; background-color: #272822\">=</span><span style=\"color: #f8f8f2; text-decoration-color: #f8f8f2; background-color: #272822\"> extra_feature</span><span style=\"background-color: #272822\">                                                                    </span>\n",
              "<span style=\"background-color: #272822\"> </span><span style=\"color: #f8f8f2; text-decoration-color: #f8f8f2; background-color: #272822\">    </span><span style=\"background-color: #272822\">                                                                                                              </span>\n",
              "<span style=\"background-color: #272822\"> </span><span style=\"color: #f8f8f2; text-decoration-color: #f8f8f2; background-color: #272822\">    </span><span style=\"color: #959077; text-decoration-color: #959077; background-color: #272822\"># Rest of your code for training and tracking the performance</span><span style=\"background-color: #272822\">                                                 </span>\n",
              "<span style=\"background-color: #272822\">                                                                                                                   \n",
              "</span>\n",
              "By updating the <span style=\"color: #008080; text-decoration-color: #008080; background-color: #000000; font-weight: bold\">wandb.run.name</span> attribute with the current feature value, you can create unique run names for each  \n",
              "feature. Additionally, you are updating the <span style=\"color: #008080; text-decoration-color: #008080; background-color: #000000; font-weight: bold\">extra_feature</span> key in the <span style=\"color: #008080; text-decoration-color: #008080; background-color: #000000; font-weight: bold\">wandb.config</span> dictionary with the current      \n",
              "feature value.                                                                                                     \n",
              "\n",
              "This way, you will have separate runs for each feature, and in the W&amp;B interface, you will be able to analyze the  \n",
              "performance corresponding to each feature by filtering and comparing the different runs.                           \n",
              "\n",
              "Give it a try, and let me know if you have any further questions or issues!                                        \n",
              "</pre>\n"
            ]
          },
          "metadata": {}
        },
        {
          "output_type": "display_data",
          "data": {
            "text/plain": [
              "What steps can I take to track the performance of different features in a regression problem using W&B, and ensure \n",
              "that the corresponding result is shown in the chart section?                                                       \n"
            ],
            "text/html": [
              "<pre style=\"white-space:pre;overflow-x:auto;line-height:normal;font-family:Menlo,'DejaVu Sans Mono',consolas,'Courier New',monospace\">What steps can I take to track the performance of different features in a regression problem using W&amp;B, and ensure \n",
              "that the corresponding result is shown in the chart section?                                                       \n",
              "</pre>\n"
            ]
          },
          "metadata": {}
        },
        {
          "output_type": "display_data",
          "data": {
            "text/plain": [
              "Sure! Based on the user query, a possible support question could be:                                               \n",
              "\n",
              "\"I am trying to track the performance of different features for training in a regression problem using W&B.        \n",
              "Although I am updating the configuration for each unique feature, I am unable to see which result corresponds to   \n",
              "which feature in the chart section. What step am I missing or what can I do to address this issue?\"                \n"
            ],
            "text/html": [
              "<pre style=\"white-space:pre;overflow-x:auto;line-height:normal;font-family:Menlo,'DejaVu Sans Mono',consolas,'Courier New',monospace\">Sure! Based on the user query, a possible support question could be:                                               \n",
              "\n",
              "\"I am trying to track the performance of different features for training in a regression problem using W&amp;B.        \n",
              "Although I am updating the configuration for each unique feature, I am unable to see which result corresponds to   \n",
              "which feature in the chart section. What step am I missing or what can I do to address this issue?\"                \n",
              "</pre>\n"
            ]
          },
          "metadata": {}
        },
        {
          "output_type": "display_data",
          "data": {
            "text/plain": [
              "How can I track the performance of different features in a regression problem and correspond the results to each   \n",
              "feature in the chart section using Weights & Biases?                                                               \n"
            ],
            "text/html": [
              "<pre style=\"white-space:pre;overflow-x:auto;line-height:normal;font-family:Menlo,'DejaVu Sans Mono',consolas,'Courier New',monospace\">How can I track the performance of different features in a regression problem and correspond the results to each   \n",
              "feature in the chart section using Weights &amp; Biases?                                                               \n",
              "</pre>\n"
            ]
          },
          "metadata": {}
        },
        {
          "output_type": "display_data",
          "data": {
            "text/plain": [
              "How can I track the performance of different features in a regression problem using W&B but also display which     \n",
              "result corresponds to which feature in the chart section? The current method I'm using with                        \n",
              "wandb.init(project=\"dialect-creep\", config={}) and wandb.config.update({'extra_feature': extra_feature}) is not    \n",
              "working. Can you help me troubleshoot this?                                                                        \n"
            ],
            "text/html": [
              "<pre style=\"white-space:pre;overflow-x:auto;line-height:normal;font-family:Menlo,'DejaVu Sans Mono',consolas,'Courier New',monospace\">How can I track the performance of different features in a regression problem using W&amp;B but also display which     \n",
              "result corresponds to which feature in the chart section? The current method I'm using with                        \n",
              "wandb.init(project=\"dialect-creep\", config={}) and wandb.config.update({'extra_feature': extra_feature}) is not    \n",
              "working. Can you help me troubleshoot this?                                                                        \n",
              "</pre>\n"
            ]
          },
          "metadata": {}
        }
      ],
      "source": [
        "generate_and_print(system_prompt, user_prompt=generation_prompt)"
      ]
    },
    {
      "cell_type": "markdown",
      "metadata": {
        "id": "f0RN82OS4msk"
      },
      "source": [
        "# Add Context & Response"
      ]
    },
    {
      "cell_type": "markdown",
      "metadata": {
        "id": "9QVqBjpI4msl"
      },
      "source": [
        "Let's create a function to find all the markdown files in a directory and return it's content and path"
      ]
    },
    {
      "cell_type": "code",
      "execution_count": 13,
      "metadata": {
        "id": "ITQrQMZj4msl",
        "colab": {
          "base_uri": "https://localhost:8080/"
        },
        "outputId": "42c739a5-183e-4e28-cd19-a83ad72eaa79"
      },
      "outputs": [
        {
          "output_type": "stream",
          "name": "stdout",
          "text": [
            "Cloning into 'edu'...\n",
            "remote: Enumerating objects: 2493, done.\u001b[K\n",
            "remote: Counting objects: 100% (1031/1031), done.\u001b[K\n",
            "remote: Compressing objects: 100% (381/381), done.\u001b[K\n",
            "remote: Total 2493 (delta 723), reused 858 (delta 642), pack-reused 1462\u001b[K\n",
            "Receiving objects: 100% (2493/2493), 22.60 MiB | 6.83 MiB/s, done.\n",
            "Resolving deltas: 100% (1419/1419), done.\n"
          ]
        }
      ],
      "source": [
        "# check if directory exists, if not, create it and download the files, e.g if running in colab\n",
        "if not os.path.exists(\"../docs_sample/\"):\n",
        "  !git clone https://github.com/wandb/edu.git\n",
        "  !cp -r edu/llm-apps-course/docs_sample ../"
      ]
    },
    {
      "cell_type": "code",
      "execution_count": 14,
      "metadata": {
        "id": "5ij3hWib4msl",
        "colab": {
          "base_uri": "https://localhost:8080/"
        },
        "outputId": "b3267449-7eaa-44c0-fa60-e2eff381d7d7"
      },
      "outputs": [
        {
          "output_type": "execute_result",
          "data": {
            "text/plain": [
              "11"
            ]
          },
          "metadata": {},
          "execution_count": 14
        }
      ],
      "source": [
        "def find_md_files(directory):\n",
        "    \"Find all markdown files in a directory and return their content and path\"\n",
        "    md_files = []\n",
        "    for file in Path(directory).rglob(\"*.md\"):\n",
        "        with open(file, 'r', encoding='utf-8') as md_file:\n",
        "            content = md_file.read()\n",
        "        md_files.append((file.relative_to(directory), content))\n",
        "    return md_files\n",
        "\n",
        "documents = find_md_files('../docs_sample/')\n",
        "len(documents)"
      ]
    },
    {
      "cell_type": "markdown",
      "metadata": {
        "id": "JPTrSO6x4msl"
      },
      "source": [
        "Let's check if the documents are not too long for our context window. We need to compute the number of tokens in each document."
      ]
    },
    {
      "cell_type": "code",
      "execution_count": 15,
      "metadata": {
        "id": "8a7yrAWw4msm",
        "colab": {
          "base_uri": "https://localhost:8080/"
        },
        "outputId": "8e86bcc5-9a19-486f-afea-f76664e19661"
      },
      "outputs": [
        {
          "output_type": "stream",
          "name": "stdout",
          "text": [
            "[1644, 803, 4179, 2093, 2940, 365, 2596, 1206, 537, 2529, 956]\n"
          ]
        }
      ],
      "source": [
        "tokenizer = tiktoken.encoding_for_model(MODEL_NAME)\n",
        "tokens_per_document = [len(tokenizer.encode(document)) for _, document in documents]\n",
        "pprint(tokens_per_document)"
      ]
    },
    {
      "cell_type": "markdown",
      "metadata": {
        "id": "YA2jA_XP4msm"
      },
      "source": [
        "Some of them are too long - instead of using entire documents, we'll extract a random chunk from them"
      ]
    },
    {
      "cell_type": "code",
      "execution_count": 16,
      "metadata": {
        "id": "B1ziu0r_4msn"
      },
      "outputs": [],
      "source": [
        "# extract a random chunk from a document\n",
        "def extract_random_chunk(document, max_tokens=512):\n",
        "    tokens = tokenizer.encode(document)\n",
        "    if len(tokens) <= max_tokens:\n",
        "        return document\n",
        "    start = random.randint(0, len(tokens) - max_tokens)\n",
        "    end = start + max_tokens\n",
        "    return tokenizer.decode(tokens[start:end])"
      ]
    },
    {
      "cell_type": "markdown",
      "metadata": {
        "id": "P5HRV4FA4msn"
      },
      "source": [
        "Now, we will use that extracted chunk to create a question that can be answered by the document. This way we can generate questions that our current documentation is capable of answering."
      ]
    },
    {
      "cell_type": "code",
      "execution_count": 17,
      "metadata": {
        "id": "cmYuEDSE4mso"
      },
      "outputs": [],
      "source": [
        "def generate_context_prompt(chunk):\n",
        "    prompt = \"Generate a support question from a W&B user\\n\" +\\\n",
        "        \"The question should be answerable by provided fragment of W&B documentation.\\n\" +\\\n",
        "        \"Below you will find a fragment of W&B documentation:\\n\" +\\\n",
        "        chunk + \"\\n\" +\\\n",
        "        \"Let's start!\"\n",
        "    return prompt\n",
        "\n",
        "chunk = extract_random_chunk(documents[0][1])\n",
        "generation_prompt = generate_context_prompt(chunk)"
      ]
    },
    {
      "cell_type": "code",
      "execution_count": 18,
      "metadata": {
        "id": "9rH-a-sz4msp",
        "colab": {
          "base_uri": "https://localhost:8080/",
          "height": 799
        },
        "outputId": "5457c569-c16a-4f76-c4a6-c90430d127e2"
      },
      "outputs": [
        {
          "output_type": "execute_result",
          "data": {
            "text/plain": [
              "Generate a support question from a W&B user The question should be answerable by provided fragment of W&B          \n",
              "documentation. Below you will find a fragment of W&B documentation: a panel and how you visualize that data.       \n",
              "\n",
              "\u001b[1mOverview\u001b[0m                                                                                                           \n",
              "\n",
              "\u001b[1;33m 1 \u001b[0mLog data to W&B                                                                                                 \n",
              "\u001b[1;33m 2 \u001b[0mCreate a query                                                                                                  \n",
              "\u001b[1;33m 3 \u001b[0mCustomize the chart                                                                                             \n",
              "\n",
              "\n",
              "                                                \u001b[1;4m1. Log data to W&B\u001b[0m                                                 \n",
              "\n",
              "First, log data in your script. Use \u001b]8;id=966635;../../../../guides/track/config.md\u001b\\\u001b[4;34mwandb.config\u001b[0m\u001b]8;;\u001b\\ for single points set at the beginning of training, like          \n",
              "hyperparameters. Use \u001b]8;id=624172;../../../../guides/track/log/intro.md\u001b\\\u001b[4;34mwandb.log()\u001b[0m\u001b]8;;\u001b\\ for multiple points over time, and log custom 2D arrays with wandb.Table(). We    \n",
              "recommend logging up to 10,000 data points per logged key.                                                         \n",
              "\n",
              "\u001b[48;2;39;40;34m                                                                                                                   \n",
              "\u001b[0m\u001b[48;2;39;40;34m \u001b[0m\u001b[38;2;149;144;119;48;2;39;40;34m# Logging a custom table of data\u001b[0m\u001b[48;2;39;40;34m                                                                                 \u001b[0m\u001b[48;2;39;40;34m \u001b[0m\n",
              "\u001b[48;2;39;40;34m \u001b[0m\u001b[38;2;248;248;242;48;2;39;40;34mmy_custom_data\u001b[0m\u001b[38;2;248;248;242;48;2;39;40;34m \u001b[0m\u001b[38;2;255;70;137;48;2;39;40;34m=\u001b[0m\u001b[38;2;248;248;242;48;2;39;40;34m \u001b[0m\u001b[38;2;248;248;242;48;2;39;40;34m[\u001b[0m\u001b[38;2;248;248;242;48;2;39;40;34m[\u001b[0m\u001b[38;2;248;248;242;48;2;39;40;34mx1\u001b[0m\u001b[38;2;248;248;242;48;2;39;40;34m,\u001b[0m\u001b[38;2;248;248;242;48;2;39;40;34m \u001b[0m\u001b[38;2;248;248;242;48;2;39;40;34my1\u001b[0m\u001b[38;2;248;248;242;48;2;39;40;34m,\u001b[0m\u001b[38;2;248;248;242;48;2;39;40;34m \u001b[0m\u001b[38;2;248;248;242;48;2;39;40;34mz1\u001b[0m\u001b[38;2;248;248;242;48;2;39;40;34m]\u001b[0m\u001b[38;2;248;248;242;48;2;39;40;34m,\u001b[0m\u001b[38;2;248;248;242;48;2;39;40;34m \u001b[0m\u001b[38;2;248;248;242;48;2;39;40;34m[\u001b[0m\u001b[38;2;248;248;242;48;2;39;40;34mx2\u001b[0m\u001b[38;2;248;248;242;48;2;39;40;34m,\u001b[0m\u001b[38;2;248;248;242;48;2;39;40;34m \u001b[0m\u001b[38;2;248;248;242;48;2;39;40;34my2\u001b[0m\u001b[38;2;248;248;242;48;2;39;40;34m,\u001b[0m\u001b[38;2;248;248;242;48;2;39;40;34m \u001b[0m\u001b[38;2;248;248;242;48;2;39;40;34mz2\u001b[0m\u001b[38;2;248;248;242;48;2;39;40;34m]\u001b[0m\u001b[38;2;248;248;242;48;2;39;40;34m]\u001b[0m\u001b[48;2;39;40;34m                                                                    \u001b[0m\u001b[48;2;39;40;34m \u001b[0m\n",
              "\u001b[48;2;39;40;34m \u001b[0m\u001b[38;2;248;248;242;48;2;39;40;34mwandb\u001b[0m\u001b[38;2;255;70;137;48;2;39;40;34m.\u001b[0m\u001b[38;2;248;248;242;48;2;39;40;34mlog\u001b[0m\u001b[38;2;248;248;242;48;2;39;40;34m(\u001b[0m\u001b[38;2;248;248;242;48;2;39;40;34m{\u001b[0m\u001b[38;2;230;219;116;48;2;39;40;34m\"\u001b[0m\u001b[38;2;230;219;116;48;2;39;40;34mcustom_data_table\u001b[0m\u001b[38;2;230;219;116;48;2;39;40;34m\"\u001b[0m\u001b[38;2;248;248;242;48;2;39;40;34m:\u001b[0m\u001b[38;2;248;248;242;48;2;39;40;34m \u001b[0m\u001b[38;2;248;248;242;48;2;39;40;34mwandb\u001b[0m\u001b[38;2;255;70;137;48;2;39;40;34m.\u001b[0m\u001b[38;2;248;248;242;48;2;39;40;34mTable\u001b[0m\u001b[38;2;248;248;242;48;2;39;40;34m(\u001b[0m\u001b[38;2;248;248;242;48;2;39;40;34mdata\u001b[0m\u001b[38;2;255;70;137;48;2;39;40;34m=\u001b[0m\u001b[38;2;248;248;242;48;2;39;40;34mmy_custom_data\u001b[0m\u001b[38;2;248;248;242;48;2;39;40;34m,\u001b[0m\u001b[48;2;39;40;34m                                                 \u001b[0m\u001b[48;2;39;40;34m \u001b[0m\n",
              "\u001b[48;2;39;40;34m \u001b[0m\u001b[38;2;248;248;242;48;2;39;40;34m                                \u001b[0m\u001b[38;2;248;248;242;48;2;39;40;34mcolumns\u001b[0m\u001b[38;2;248;248;242;48;2;39;40;34m \u001b[0m\u001b[38;2;255;70;137;48;2;39;40;34m=\u001b[0m\u001b[38;2;248;248;242;48;2;39;40;34m \u001b[0m\u001b[38;2;248;248;242;48;2;39;40;34m[\u001b[0m\u001b[38;2;230;219;116;48;2;39;40;34m\"\u001b[0m\u001b[38;2;230;219;116;48;2;39;40;34mx\u001b[0m\u001b[38;2;230;219;116;48;2;39;40;34m\"\u001b[0m\u001b[38;2;248;248;242;48;2;39;40;34m,\u001b[0m\u001b[38;2;248;248;242;48;2;39;40;34m \u001b[0m\u001b[38;2;230;219;116;48;2;39;40;34m\"\u001b[0m\u001b[38;2;230;219;116;48;2;39;40;34my\u001b[0m\u001b[38;2;230;219;116;48;2;39;40;34m\"\u001b[0m\u001b[38;2;248;248;242;48;2;39;40;34m,\u001b[0m\u001b[38;2;248;248;242;48;2;39;40;34m \u001b[0m\u001b[38;2;230;219;116;48;2;39;40;34m\"\u001b[0m\u001b[38;2;230;219;116;48;2;39;40;34mz\u001b[0m\u001b[38;2;230;219;116;48;2;39;40;34m\"\u001b[0m\u001b[38;2;248;248;242;48;2;39;40;34m]\u001b[0m\u001b[38;2;248;248;242;48;2;39;40;34m)\u001b[0m\u001b[38;2;248;248;242;48;2;39;40;34m}\u001b[0m\u001b[38;2;248;248;242;48;2;39;40;34m)\u001b[0m\u001b[48;2;39;40;34m                                                     \u001b[0m\u001b[48;2;39;40;34m \u001b[0m\n",
              "\u001b[48;2;39;40;34m                                                                                                                   \n",
              "\u001b[0m\n",
              "\u001b]8;id=857690;https://bit.ly/custom-charts-colab\u001b\\\u001b[4;34mTry a quick example notebook\u001b[0m\u001b]8;;\u001b\\ to log the data tables, and in the next step we'll set up custom charts. See what the \n",
              "resulting charts look like in the \u001b]8;id=80563;https://app.wandb.ai/demo-team/custom-charts/reports/Custom-Charts--VmlldzoyMTk5MDc\u001b\\\u001b[4;34mlive report\u001b[0m\u001b]8;;\u001b\\.                                                                     \n",
              "\n",
              "\n",
              "                                                 \u001b[1;4m2. Create a query\u001b[0m                                                 \n",
              "\n",
              "Once you've logged data to visualize, go to your project page and click the \u001b[1;36;40m+\u001b[0m button to add a new panel, then      \n",
              "select \u001b[1mCustom Chart\u001b[0m. You can follow along in \u001b]8;id=120518;https://app.wandb.ai/demo-team/custom-charts\u001b\\\u001b[4;34mthis workspace\u001b[0m\u001b]8;;\u001b\\.                                                       \n",
              "\n",
              "🌆 \u001b]8;id=776082;/images/app_ui/create_a_query.png\u001b\\A new, blank custom chart ready to be configured\u001b]8;;\u001b\\                                                                                                                    \n",
              "\n",
              "                                                    \u001b[1mAdd a query\u001b[0m                                                    \n",
              "\n",
              "\u001b[1;33m 1 \u001b[0mClick \u001b[1;36;40msummary\u001b[0m and select \u001b[1;36;40mhistoryTable\u001b[0m to set up a new query pulling data from the run history.                  \n",
              "\u001b[1;33m 2 \u001b[0mType in the key where you logged the \u001b[1mwandb.Table()\u001b[0m. In the code snippet above, it was \u001b[1;36;40mmy_custom_table\u001b[0m . In the  \n",
              "\u001b[1;33m   \u001b[0m\u001b]8;id=400199;https://bit.ly/custom-charts-colab\u001b\\\u001b[4;34mexample notebook\u001b[0m\u001b]8;;\u001b\\, the keys are \u001b[1;36;40mpr_curve\u001b[0m and \u001b[1;36;40mroc_curve\u001b[0m.                                                          \n",
              "\n",
              "                                                  \u001b[1mSet Vega fields\u001b[0m                                                  \n",
              "\n",
              "Now that the query is loading in these columns, they're available as options to select in the Vega fields dropdown \n",
              "menus:                                                                                                             \n",
              "\n",
              "🌆 \u001b]8;id=389224;/images/app_ui/set_vega_fields.png\u001b\\Pulling in columns from the query results to set Vega fields\u001b]8;;\u001b\\                                                                                                                    \n",
              "\n",
              "\u001b[1;33m • \u001b[0m\u001b[1mx-axis:\u001b[0m runSets_historyTable_r Let's start!                                                                     \n"
            ],
            "text/html": [
              "<pre style=\"white-space:pre;overflow-x:auto;line-height:normal;font-family:Menlo,'DejaVu Sans Mono',consolas,'Courier New',monospace\">Generate a support question from a W&amp;B user The question should be answerable by provided fragment of W&amp;B          \n",
              "documentation. Below you will find a fragment of W&amp;B documentation: a panel and how you visualize that data.       \n",
              "\n",
              "<span style=\"font-weight: bold\">Overview</span>                                                                                                           \n",
              "\n",
              "<span style=\"color: #808000; text-decoration-color: #808000; font-weight: bold\"> 1 </span>Log data to W&amp;B                                                                                                 \n",
              "<span style=\"color: #808000; text-decoration-color: #808000; font-weight: bold\"> 2 </span>Create a query                                                                                                  \n",
              "<span style=\"color: #808000; text-decoration-color: #808000; font-weight: bold\"> 3 </span>Customize the chart                                                                                             \n",
              "\n",
              "\n",
              "                                                <span style=\"font-weight: bold; text-decoration: underline\">1. Log data to W&amp;B</span>                                                 \n",
              "\n",
              "First, log data in your script. Use <a href=\"../../../../guides/track/config.md\" target=\"_blank\"><span style=\"color: #000080; text-decoration-color: #000080; text-decoration: underline\">wandb.config</span></a> for single points set at the beginning of training, like          \n",
              "hyperparameters. Use <a href=\"../../../../guides/track/log/intro.md\" target=\"_blank\"><span style=\"color: #000080; text-decoration-color: #000080; text-decoration: underline\">wandb.log()</span></a> for multiple points over time, and log custom 2D arrays with wandb.Table(). We    \n",
              "recommend logging up to 10,000 data points per logged key.                                                         \n",
              "\n",
              "<span style=\"background-color: #272822\">                                                                                                                   \n",
              " </span><span style=\"color: #959077; text-decoration-color: #959077; background-color: #272822\"># Logging a custom table of data</span><span style=\"background-color: #272822\">                                                                                  </span>\n",
              "<span style=\"background-color: #272822\"> </span><span style=\"color: #f8f8f2; text-decoration-color: #f8f8f2; background-color: #272822\">my_custom_data </span><span style=\"color: #ff4689; text-decoration-color: #ff4689; background-color: #272822\">=</span><span style=\"color: #f8f8f2; text-decoration-color: #f8f8f2; background-color: #272822\"> [[x1, y1, z1], [x2, y2, z2]]</span><span style=\"background-color: #272822\">                                                                     </span>\n",
              "<span style=\"background-color: #272822\"> </span><span style=\"color: #f8f8f2; text-decoration-color: #f8f8f2; background-color: #272822\">wandb</span><span style=\"color: #ff4689; text-decoration-color: #ff4689; background-color: #272822\">.</span><span style=\"color: #f8f8f2; text-decoration-color: #f8f8f2; background-color: #272822\">log({</span><span style=\"color: #e6db74; text-decoration-color: #e6db74; background-color: #272822\">\"custom_data_table\"</span><span style=\"color: #f8f8f2; text-decoration-color: #f8f8f2; background-color: #272822\">: wandb</span><span style=\"color: #ff4689; text-decoration-color: #ff4689; background-color: #272822\">.</span><span style=\"color: #f8f8f2; text-decoration-color: #f8f8f2; background-color: #272822\">Table(data</span><span style=\"color: #ff4689; text-decoration-color: #ff4689; background-color: #272822\">=</span><span style=\"color: #f8f8f2; text-decoration-color: #f8f8f2; background-color: #272822\">my_custom_data,</span><span style=\"background-color: #272822\">                                                  </span>\n",
              "<span style=\"background-color: #272822\"> </span><span style=\"color: #f8f8f2; text-decoration-color: #f8f8f2; background-color: #272822\">                                columns </span><span style=\"color: #ff4689; text-decoration-color: #ff4689; background-color: #272822\">=</span><span style=\"color: #f8f8f2; text-decoration-color: #f8f8f2; background-color: #272822\"> [</span><span style=\"color: #e6db74; text-decoration-color: #e6db74; background-color: #272822\">\"x\"</span><span style=\"color: #f8f8f2; text-decoration-color: #f8f8f2; background-color: #272822\">, </span><span style=\"color: #e6db74; text-decoration-color: #e6db74; background-color: #272822\">\"y\"</span><span style=\"color: #f8f8f2; text-decoration-color: #f8f8f2; background-color: #272822\">, </span><span style=\"color: #e6db74; text-decoration-color: #e6db74; background-color: #272822\">\"z\"</span><span style=\"color: #f8f8f2; text-decoration-color: #f8f8f2; background-color: #272822\">])})</span><span style=\"background-color: #272822\">                                                      </span>\n",
              "<span style=\"background-color: #272822\">                                                                                                                   \n",
              "</span>\n",
              "<a href=\"https://bit.ly/custom-charts-colab\" target=\"_blank\"><span style=\"color: #000080; text-decoration-color: #000080; text-decoration: underline\">Try a quick example notebook</span></a> to log the data tables, and in the next step we'll set up custom charts. See what the \n",
              "resulting charts look like in the <a href=\"https://app.wandb.ai/demo-team/custom-charts/reports/Custom-Charts--VmlldzoyMTk5MDc\" target=\"_blank\"><span style=\"color: #000080; text-decoration-color: #000080; text-decoration: underline\">live report</span></a>.                                                                     \n",
              "\n",
              "\n",
              "                                                 <span style=\"font-weight: bold; text-decoration: underline\">2. Create a query</span>                                                 \n",
              "\n",
              "Once you've logged data to visualize, go to your project page and click the <span style=\"color: #008080; text-decoration-color: #008080; background-color: #000000; font-weight: bold\">+</span> button to add a new panel, then      \n",
              "select <span style=\"font-weight: bold\">Custom Chart</span>. You can follow along in <a href=\"https://app.wandb.ai/demo-team/custom-charts\" target=\"_blank\"><span style=\"color: #000080; text-decoration-color: #000080; text-decoration: underline\">this workspace</span></a>.                                                       \n",
              "\n",
              "🌆 <a href=\"/images/app_ui/create_a_query.png\" target=\"_blank\">A new, blank custom chart ready to be configured</a>                                                                                                                    \n",
              "\n",
              "                                                    <span style=\"font-weight: bold\">Add a query</span>                                                    \n",
              "\n",
              "<span style=\"color: #808000; text-decoration-color: #808000; font-weight: bold\"> 1 </span>Click <span style=\"color: #008080; text-decoration-color: #008080; background-color: #000000; font-weight: bold\">summary</span> and select <span style=\"color: #008080; text-decoration-color: #008080; background-color: #000000; font-weight: bold\">historyTable</span> to set up a new query pulling data from the run history.                  \n",
              "<span style=\"color: #808000; text-decoration-color: #808000; font-weight: bold\"> 2 </span>Type in the key where you logged the <span style=\"font-weight: bold\">wandb.Table()</span>. In the code snippet above, it was <span style=\"color: #008080; text-decoration-color: #008080; background-color: #000000; font-weight: bold\">my_custom_table</span> . In the  \n",
              "<span style=\"color: #808000; text-decoration-color: #808000; font-weight: bold\">   </span><a href=\"https://bit.ly/custom-charts-colab\" target=\"_blank\"><span style=\"color: #000080; text-decoration-color: #000080; text-decoration: underline\">example notebook</span></a>, the keys are <span style=\"color: #008080; text-decoration-color: #008080; background-color: #000000; font-weight: bold\">pr_curve</span> and <span style=\"color: #008080; text-decoration-color: #008080; background-color: #000000; font-weight: bold\">roc_curve</span>.                                                          \n",
              "\n",
              "                                                  <span style=\"font-weight: bold\">Set Vega fields</span>                                                  \n",
              "\n",
              "Now that the query is loading in these columns, they're available as options to select in the Vega fields dropdown \n",
              "menus:                                                                                                             \n",
              "\n",
              "🌆 <a href=\"/images/app_ui/set_vega_fields.png\" target=\"_blank\">Pulling in columns from the query results to set Vega fields</a>                                                                                                                    \n",
              "\n",
              "<span style=\"color: #808000; text-decoration-color: #808000; font-weight: bold\"> • </span><span style=\"font-weight: bold\">x-axis:</span> runSets_historyTable_r Let's start!                                                                     \n",
              "</pre>\n"
            ]
          },
          "metadata": {},
          "execution_count": 18
        }
      ],
      "source": [
        "Markdown(generation_prompt)"
      ]
    },
    {
      "cell_type": "markdown",
      "metadata": {
        "id": "0saAvfAO4msq"
      },
      "source": [
        "Let's generate 3 possible questions:"
      ]
    },
    {
      "cell_type": "code",
      "execution_count": 19,
      "metadata": {
        "id": "oKUz2eAw4msr",
        "colab": {
          "base_uri": "https://localhost:8080/",
          "height": 209
        },
        "outputId": "a4666650-94b7-4c42-c445-329c90f21b51"
      },
      "outputs": [
        {
          "output_type": "display_data",
          "data": {
            "text/plain": [
              "Support Question: How do I log a custom table of data in W&B using Python?                                         \n"
            ],
            "text/html": [
              "<pre style=\"white-space:pre;overflow-x:auto;line-height:normal;font-family:Menlo,'DejaVu Sans Mono',consolas,'Courier New',monospace\">Support Question: How do I log a custom table of data in W&amp;B using Python?                                         \n",
              "</pre>\n"
            ]
          },
          "metadata": {}
        },
        {
          "output_type": "display_data",
          "data": {
            "text/plain": [
              "Support question: How can I log a custom table of data using W&B?                                                  \n",
              "\n",
              "Answer (from the provided fragment of W&B documentation): To log a custom table of data, you can use the           \n",
              "wandb.log() function and provide a dictionary with the key as \"custom_data_table\" and the value as a wandb.Table   \n",
              "object. The wandb.Table object should be initialized with your custom data and column names. Here's an example:    \n",
              "\n",
              "\u001b[48;2;39;40;34m                                                                                                                   \n",
              "\u001b[0m\u001b[48;2;39;40;34m \u001b[0m\u001b[38;2;248;248;242;48;2;39;40;34mmy_custom_data\u001b[0m\u001b[38;2;248;248;242;48;2;39;40;34m \u001b[0m\u001b[38;2;255;70;137;48;2;39;40;34m=\u001b[0m\u001b[38;2;248;248;242;48;2;39;40;34m \u001b[0m\u001b[38;2;248;248;242;48;2;39;40;34m[\u001b[0m\u001b[38;2;248;248;242;48;2;39;40;34m[\u001b[0m\u001b[38;2;248;248;242;48;2;39;40;34mx1\u001b[0m\u001b[38;2;248;248;242;48;2;39;40;34m,\u001b[0m\u001b[38;2;248;248;242;48;2;39;40;34m \u001b[0m\u001b[38;2;248;248;242;48;2;39;40;34my1\u001b[0m\u001b[38;2;248;248;242;48;2;39;40;34m,\u001b[0m\u001b[38;2;248;248;242;48;2;39;40;34m \u001b[0m\u001b[38;2;248;248;242;48;2;39;40;34mz1\u001b[0m\u001b[38;2;248;248;242;48;2;39;40;34m]\u001b[0m\u001b[38;2;248;248;242;48;2;39;40;34m,\u001b[0m\u001b[38;2;248;248;242;48;2;39;40;34m \u001b[0m\u001b[38;2;248;248;242;48;2;39;40;34m[\u001b[0m\u001b[38;2;248;248;242;48;2;39;40;34mx2\u001b[0m\u001b[38;2;248;248;242;48;2;39;40;34m,\u001b[0m\u001b[38;2;248;248;242;48;2;39;40;34m \u001b[0m\u001b[38;2;248;248;242;48;2;39;40;34my2\u001b[0m\u001b[38;2;248;248;242;48;2;39;40;34m,\u001b[0m\u001b[38;2;248;248;242;48;2;39;40;34m \u001b[0m\u001b[38;2;248;248;242;48;2;39;40;34mz2\u001b[0m\u001b[38;2;248;248;242;48;2;39;40;34m]\u001b[0m\u001b[38;2;248;248;242;48;2;39;40;34m]\u001b[0m\u001b[48;2;39;40;34m                                                                    \u001b[0m\u001b[48;2;39;40;34m \u001b[0m\n",
              "\u001b[48;2;39;40;34m \u001b[0m\u001b[38;2;248;248;242;48;2;39;40;34mwandb\u001b[0m\u001b[38;2;255;70;137;48;2;39;40;34m.\u001b[0m\u001b[38;2;248;248;242;48;2;39;40;34mlog\u001b[0m\u001b[38;2;248;248;242;48;2;39;40;34m(\u001b[0m\u001b[38;2;248;248;242;48;2;39;40;34m{\u001b[0m\u001b[38;2;230;219;116;48;2;39;40;34m\"\u001b[0m\u001b[38;2;230;219;116;48;2;39;40;34mcustom_data_table\u001b[0m\u001b[38;2;230;219;116;48;2;39;40;34m\"\u001b[0m\u001b[38;2;248;248;242;48;2;39;40;34m:\u001b[0m\u001b[38;2;248;248;242;48;2;39;40;34m \u001b[0m\u001b[38;2;248;248;242;48;2;39;40;34mwandb\u001b[0m\u001b[38;2;255;70;137;48;2;39;40;34m.\u001b[0m\u001b[38;2;248;248;242;48;2;39;40;34mTable\u001b[0m\u001b[38;2;248;248;242;48;2;39;40;34m(\u001b[0m\u001b[38;2;248;248;242;48;2;39;40;34mdata\u001b[0m\u001b[38;2;255;70;137;48;2;39;40;34m=\u001b[0m\u001b[38;2;248;248;242;48;2;39;40;34mmy_custom_data\u001b[0m\u001b[38;2;248;248;242;48;2;39;40;34m,\u001b[0m\u001b[38;2;248;248;242;48;2;39;40;34m \u001b[0m\u001b[38;2;248;248;242;48;2;39;40;34mcolumns\u001b[0m\u001b[38;2;255;70;137;48;2;39;40;34m=\u001b[0m\u001b[38;2;248;248;242;48;2;39;40;34m[\u001b[0m\u001b[38;2;230;219;116;48;2;39;40;34m\"\u001b[0m\u001b[38;2;230;219;116;48;2;39;40;34mx\u001b[0m\u001b[38;2;230;219;116;48;2;39;40;34m\"\u001b[0m\u001b[38;2;248;248;242;48;2;39;40;34m,\u001b[0m\u001b[38;2;248;248;242;48;2;39;40;34m \u001b[0m\u001b[38;2;230;219;116;48;2;39;40;34m\"\u001b[0m\u001b[38;2;230;219;116;48;2;39;40;34my\u001b[0m\u001b[38;2;230;219;116;48;2;39;40;34m\"\u001b[0m\u001b[38;2;248;248;242;48;2;39;40;34m,\u001b[0m\u001b[38;2;248;248;242;48;2;39;40;34m \u001b[0m\u001b[38;2;230;219;116;48;2;39;40;34m\"\u001b[0m\u001b[38;2;230;219;116;48;2;39;40;34mz\u001b[0m\u001b[38;2;230;219;116;48;2;39;40;34m\"\u001b[0m\u001b[38;2;248;248;242;48;2;39;40;34m]\u001b[0m\u001b[38;2;248;248;242;48;2;39;40;34m)\u001b[0m\u001b[38;2;248;248;242;48;2;39;40;34m}\u001b[0m\u001b[38;2;248;248;242;48;2;39;40;34m)\u001b[0m\u001b[48;2;39;40;34m                      \u001b[0m\u001b[48;2;39;40;34m \u001b[0m\n",
              "\u001b[48;2;39;40;34m                                                                                                                   \n",
              "\u001b[0m"
            ],
            "text/html": [
              "<pre style=\"white-space:pre;overflow-x:auto;line-height:normal;font-family:Menlo,'DejaVu Sans Mono',consolas,'Courier New',monospace\">Support question: How can I log a custom table of data using W&amp;B?                                                  \n",
              "\n",
              "Answer (from the provided fragment of W&amp;B documentation): To log a custom table of data, you can use the           \n",
              "wandb.log() function and provide a dictionary with the key as \"custom_data_table\" and the value as a wandb.Table   \n",
              "object. The wandb.Table object should be initialized with your custom data and column names. Here's an example:    \n",
              "\n",
              "<span style=\"background-color: #272822\">                                                                                                                   \n",
              " </span><span style=\"color: #f8f8f2; text-decoration-color: #f8f8f2; background-color: #272822\">my_custom_data </span><span style=\"color: #ff4689; text-decoration-color: #ff4689; background-color: #272822\">=</span><span style=\"color: #f8f8f2; text-decoration-color: #f8f8f2; background-color: #272822\"> [[x1, y1, z1], [x2, y2, z2]]</span><span style=\"background-color: #272822\">                                                                     </span>\n",
              "<span style=\"background-color: #272822\"> </span><span style=\"color: #f8f8f2; text-decoration-color: #f8f8f2; background-color: #272822\">wandb</span><span style=\"color: #ff4689; text-decoration-color: #ff4689; background-color: #272822\">.</span><span style=\"color: #f8f8f2; text-decoration-color: #f8f8f2; background-color: #272822\">log({</span><span style=\"color: #e6db74; text-decoration-color: #e6db74; background-color: #272822\">\"custom_data_table\"</span><span style=\"color: #f8f8f2; text-decoration-color: #f8f8f2; background-color: #272822\">: wandb</span><span style=\"color: #ff4689; text-decoration-color: #ff4689; background-color: #272822\">.</span><span style=\"color: #f8f8f2; text-decoration-color: #f8f8f2; background-color: #272822\">Table(data</span><span style=\"color: #ff4689; text-decoration-color: #ff4689; background-color: #272822\">=</span><span style=\"color: #f8f8f2; text-decoration-color: #f8f8f2; background-color: #272822\">my_custom_data, columns</span><span style=\"color: #ff4689; text-decoration-color: #ff4689; background-color: #272822\">=</span><span style=\"color: #f8f8f2; text-decoration-color: #f8f8f2; background-color: #272822\">[</span><span style=\"color: #e6db74; text-decoration-color: #e6db74; background-color: #272822\">\"x\"</span><span style=\"color: #f8f8f2; text-decoration-color: #f8f8f2; background-color: #272822\">, </span><span style=\"color: #e6db74; text-decoration-color: #e6db74; background-color: #272822\">\"y\"</span><span style=\"color: #f8f8f2; text-decoration-color: #f8f8f2; background-color: #272822\">, </span><span style=\"color: #e6db74; text-decoration-color: #e6db74; background-color: #272822\">\"z\"</span><span style=\"color: #f8f8f2; text-decoration-color: #f8f8f2; background-color: #272822\">])})</span><span style=\"background-color: #272822\">                       </span>\n",
              "<span style=\"background-color: #272822\">                                                                                                                   \n",
              "</span></pre>\n"
            ]
          },
          "metadata": {}
        },
        {
          "output_type": "display_data",
          "data": {
            "text/plain": [
              "What is the recommended number of data points to log per key using wandb.log()?                                    \n"
            ],
            "text/html": [
              "<pre style=\"white-space:pre;overflow-x:auto;line-height:normal;font-family:Menlo,'DejaVu Sans Mono',consolas,'Courier New',monospace\">What is the recommended number of data points to log per key using wandb.log()?                                    \n",
              "</pre>\n"
            ]
          },
          "metadata": {}
        }
      ],
      "source": [
        "generate_and_print(system_prompt, generation_prompt, n=3)"
      ]
    },
    {
      "cell_type": "markdown",
      "metadata": {
        "id": "6fYW0y-54mss"
      },
      "source": [
        "> As you can see, sometimes the generation contains an intro phrase like: \"Sure, here's a support question based on the documentation:\", we may want to put some instructions to avoid this."
      ]
    },
    {
      "cell_type": "markdown",
      "metadata": {
        "id": "__RF5_IK4mss"
      },
      "source": [
        "### Level 5 prompt\n",
        "\n",
        "Complex directive that includes the following:\n",
        "- Description of high-level goal\n",
        "- A detailed bulleted list of sub-tasks\n",
        "- An explicit statement asking LLM to explain its own output\n",
        "- A guideline on how LLM output will be evaluated\n",
        "- Few-shot examples"
      ]
    },
    {
      "cell_type": "code",
      "execution_count": 20,
      "metadata": {
        "id": "yfFi_F6K4mst"
      },
      "outputs": [],
      "source": [
        "# we will use GPT4 from here, as it gives better answers and abides to instructions better\n",
        "MODEL_NAME = \"gpt-4\""
      ]
    },
    {
      "cell_type": "code",
      "execution_count": 22,
      "metadata": {
        "id": "eFnHOmvB4mst"
      },
      "outputs": [],
      "source": [
        "# read system_template.txt file into an f-string\n",
        "with open(\"system_template.txt\", \"r\") as file:\n",
        "    system_prompt = file.read()"
      ]
    },
    {
      "cell_type": "code",
      "execution_count": 23,
      "metadata": {
        "id": "4yYIdZ1y4msu",
        "colab": {
          "base_uri": "https://localhost:8080/",
          "height": 97
        },
        "outputId": "c42fd940-c7c7-4c33-c191-4381066f27a7"
      },
      "outputs": [
        {
          "output_type": "execute_result",
          "data": {
            "text/plain": [
              "You are a creative assistant with the goal to generate a synthetic dataset of Weights & Biases (W&B) user          \n",
              "questions. W&B users are asking these questions to a bot, so they don't know the answer and their questions are    \n",
              "grounded in what they're trying to achieve. We are interested in questions that can be answered by W&B             \n",
              "documentation. But the users don't have access to this documentation, so you need to imagine what they're trying to\n",
              "do and use according language.                                                                                     \n"
            ],
            "text/html": [
              "<pre style=\"white-space:pre;overflow-x:auto;line-height:normal;font-family:Menlo,'DejaVu Sans Mono',consolas,'Courier New',monospace\">You are a creative assistant with the goal to generate a synthetic dataset of Weights &amp; Biases (W&amp;B) user          \n",
              "questions. W&amp;B users are asking these questions to a bot, so they don't know the answer and their questions are    \n",
              "grounded in what they're trying to achieve. We are interested in questions that can be answered by W&amp;B             \n",
              "documentation. But the users don't have access to this documentation, so you need to imagine what they're trying to\n",
              "do and use according language.                                                                                     \n",
              "</pre>\n"
            ]
          },
          "metadata": {},
          "execution_count": 23
        }
      ],
      "source": [
        "Markdown(system_prompt)"
      ]
    },
    {
      "cell_type": "code",
      "execution_count": 25,
      "metadata": {
        "id": "9yrWQhF34msv"
      },
      "outputs": [],
      "source": [
        "# read prompt_template.txt file into an f-string\n",
        "with open(\"prompt_template.txt\", \"r\") as file:\n",
        "    prompt_template = file.read()"
      ]
    },
    {
      "cell_type": "code",
      "execution_count": 26,
      "metadata": {
        "id": "UxOJnTo84msv",
        "colab": {
          "base_uri": "https://localhost:8080/",
          "height": 385
        },
        "outputId": "f4d4167c-fcc2-4b35-97b7-c5dc89aa6742"
      },
      "outputs": [
        {
          "output_type": "execute_result",
          "data": {
            "text/plain": [
              "Here are some examples of real user questions, you will be judged by how well you match this distribution.         \n",
              "\n",
              "\u001b[33m───────────────────────────────────────────────────────────────────────────────────────────────────────────────────\u001b[0m\n",
              "{QUESTIONS}                                                                                                        \n",
              "\n",
              "\u001b[33m───────────────────────────────────────────────────────────────────────────────────────────────────────────────────\u001b[0m\n",
              "In the next step, you will read a fragment of W&B documentation. This will serve as inspiration for synthetic user \n",
              "question and the source of the answer. Here is the document fragment:                                              \n",
              "\n",
              "\u001b[33m───────────────────────────────────────────────────────────────────────────────────────────────────────────────────\u001b[0m\n",
              "{CHUNK}                                                                                                            \n",
              "\n",
              "\u001b[33m───────────────────────────────────────────────────────────────────────────────────────────────────────────────────\u001b[0m\n",
              "You will now generate a user question and corresponding answer based on the above document. First, explain the user\n",
              "context and what problems they might be trying to solve. Second, generate user question. Third, provide the        \n",
              "accurate and concise answer in markdown format to the user question using the documentation. You'll be evaluated   \n",
              "on:                                                                                                                \n",
              "\n",
              "\u001b[1;33m • \u001b[0mhow realistic is that this question will come from a real user one day?                                         \n",
              "\u001b[1;33m • \u001b[0mis this question about W&B?                                                                                     \n",
              "\u001b[1;33m • \u001b[0mcan the question be answered using the W&B document fragment above?                                             \n",
              "\u001b[1;33m • \u001b[0mhow accurate is the answer? Remember that users have different styles and can be imprecise. You are very good at\n",
              "\u001b[1;33m   \u001b[0mimpersonating them! Use the following format: CONTEXT: QUESTION: ANSWER: Let's start!                           \n"
            ],
            "text/html": [
              "<pre style=\"white-space:pre;overflow-x:auto;line-height:normal;font-family:Menlo,'DejaVu Sans Mono',consolas,'Courier New',monospace\">Here are some examples of real user questions, you will be judged by how well you match this distribution.         \n",
              "\n",
              "<span style=\"color: #808000; text-decoration-color: #808000\">───────────────────────────────────────────────────────────────────────────────────────────────────────────────────</span>\n",
              "{QUESTIONS}                                                                                                        \n",
              "\n",
              "<span style=\"color: #808000; text-decoration-color: #808000\">───────────────────────────────────────────────────────────────────────────────────────────────────────────────────</span>\n",
              "In the next step, you will read a fragment of W&amp;B documentation. This will serve as inspiration for synthetic user \n",
              "question and the source of the answer. Here is the document fragment:                                              \n",
              "\n",
              "<span style=\"color: #808000; text-decoration-color: #808000\">───────────────────────────────────────────────────────────────────────────────────────────────────────────────────</span>\n",
              "{CHUNK}                                                                                                            \n",
              "\n",
              "<span style=\"color: #808000; text-decoration-color: #808000\">───────────────────────────────────────────────────────────────────────────────────────────────────────────────────</span>\n",
              "You will now generate a user question and corresponding answer based on the above document. First, explain the user\n",
              "context and what problems they might be trying to solve. Second, generate user question. Third, provide the        \n",
              "accurate and concise answer in markdown format to the user question using the documentation. You'll be evaluated   \n",
              "on:                                                                                                                \n",
              "\n",
              "<span style=\"color: #808000; text-decoration-color: #808000; font-weight: bold\"> • </span>how realistic is that this question will come from a real user one day?                                         \n",
              "<span style=\"color: #808000; text-decoration-color: #808000; font-weight: bold\"> • </span>is this question about W&amp;B?                                                                                     \n",
              "<span style=\"color: #808000; text-decoration-color: #808000; font-weight: bold\"> • </span>can the question be answered using the W&amp;B document fragment above?                                             \n",
              "<span style=\"color: #808000; text-decoration-color: #808000; font-weight: bold\"> • </span>how accurate is the answer? Remember that users have different styles and can be imprecise. You are very good at\n",
              "<span style=\"color: #808000; text-decoration-color: #808000; font-weight: bold\">   </span>impersonating them! Use the following format: CONTEXT: QUESTION: ANSWER: Let's start!                           \n",
              "</pre>\n"
            ]
          },
          "metadata": {},
          "execution_count": 26
        }
      ],
      "source": [
        "Markdown(prompt_template)"
      ]
    },
    {
      "cell_type": "code",
      "execution_count": 27,
      "metadata": {
        "id": "kLp2wLe24msw"
      },
      "outputs": [],
      "source": [
        "def generate_context_prompt(chunk, n_questions=3):\n",
        "    questions = '\\n'.join(random.sample(real_queries, n_questions))\n",
        "    user_prompt = prompt_template.format(QUESTIONS=questions, CHUNK=chunk)\n",
        "    return user_prompt\n",
        "\n",
        "user_prompt = generate_context_prompt(chunk)"
      ]
    },
    {
      "cell_type": "code",
      "execution_count": 28,
      "metadata": {
        "id": "liu_eWJw4msx",
        "colab": {
          "base_uri": "https://localhost:8080/",
          "height": 1000
        },
        "outputId": "45194b05-2d31-49b9-b812-445843018cbd"
      },
      "outputs": [
        {
          "output_type": "execute_result",
          "data": {
            "text/plain": [
              "Here are some examples of real user questions, you will be judged by how well you match this distribution.         \n",
              "\n",
              "\u001b[33m───────────────────────────────────────────────────────────────────────────────────────────────────────────────────\u001b[0m\n",
              "How can I log my results in my team profile and not in my personal profile? I am trying to integrate gradio block  \n",
              "in wandb. Here are my last three lines of code                                                                     \n",
              "\n",
              "\u001b[1;36;40mrun = wandb.init(project=prms.WANDB_PROJECT, entity=prms.WANDB_ENTITY, job_type=\"gradio\") block.launch(share=True) \u001b[0m\n",
              "\u001b[1;36;40mblock.integrate(wandb=wandb)\u001b[0m                                                                                       \n",
              "\n",
              "gradio app is launched and working, wandb run as well, but there is not logged block in wandb                      \n",
              "\n",
              "shouldn't it be enough to call the iface.integrate(wandb=wandb)? I am using the Hugging Face trainer to train a    \n",
              "GPT-2 model. How can I log in wandb an example of what the model generates in each evaluation? For instance, at    \n",
              "step 300 I want the log an example of the text generated by the model, and then again at step 600, and so on.      \n",
              "\n",
              "\u001b[33m───────────────────────────────────────────────────────────────────────────────────────────────────────────────────\u001b[0m\n",
              "In the next step, you will read a fragment of W&B documentation. This will serve as inspiration for synthetic user \n",
              "question and the source of the answer. Here is the document fragment:                                              \n",
              "\n",
              "\u001b[33m───────────────────────────────────────────────────────────────────────────────────────────────────────────────────\u001b[0m\n",
              "a panel and how you visualize that data.                                                                           \n",
              "\n",
              "\u001b[1mOverview\u001b[0m                                                                                                           \n",
              "\n",
              "\u001b[1;33m 1 \u001b[0mLog data to W&B                                                                                                 \n",
              "\u001b[1;33m 2 \u001b[0mCreate a query                                                                                                  \n",
              "\u001b[1;33m 3 \u001b[0mCustomize the chart                                                                                             \n",
              "\n",
              "\n",
              "                                                \u001b[1;4m1. Log data to W&B\u001b[0m                                                 \n",
              "\n",
              "First, log data in your script. Use \u001b]8;id=681330;../../../../guides/track/config.md\u001b\\\u001b[4;34mwandb.config\u001b[0m\u001b]8;;\u001b\\ for single points set at the beginning of training, like          \n",
              "hyperparameters. Use \u001b]8;id=905212;../../../../guides/track/log/intro.md\u001b\\\u001b[4;34mwandb.log()\u001b[0m\u001b]8;;\u001b\\ for multiple points over time, and log custom 2D arrays with wandb.Table(). We    \n",
              "recommend logging up to 10,000 data points per logged key.                                                         \n",
              "\n",
              "\u001b[48;2;39;40;34m                                                                                                                   \n",
              "\u001b[0m\u001b[48;2;39;40;34m \u001b[0m\u001b[38;2;149;144;119;48;2;39;40;34m# Logging a custom table of data\u001b[0m\u001b[48;2;39;40;34m                                                                                 \u001b[0m\u001b[48;2;39;40;34m \u001b[0m\n",
              "\u001b[48;2;39;40;34m \u001b[0m\u001b[38;2;248;248;242;48;2;39;40;34mmy_custom_data\u001b[0m\u001b[38;2;248;248;242;48;2;39;40;34m \u001b[0m\u001b[38;2;255;70;137;48;2;39;40;34m=\u001b[0m\u001b[38;2;248;248;242;48;2;39;40;34m \u001b[0m\u001b[38;2;248;248;242;48;2;39;40;34m[\u001b[0m\u001b[38;2;248;248;242;48;2;39;40;34m[\u001b[0m\u001b[38;2;248;248;242;48;2;39;40;34mx1\u001b[0m\u001b[38;2;248;248;242;48;2;39;40;34m,\u001b[0m\u001b[38;2;248;248;242;48;2;39;40;34m \u001b[0m\u001b[38;2;248;248;242;48;2;39;40;34my1\u001b[0m\u001b[38;2;248;248;242;48;2;39;40;34m,\u001b[0m\u001b[38;2;248;248;242;48;2;39;40;34m \u001b[0m\u001b[38;2;248;248;242;48;2;39;40;34mz1\u001b[0m\u001b[38;2;248;248;242;48;2;39;40;34m]\u001b[0m\u001b[38;2;248;248;242;48;2;39;40;34m,\u001b[0m\u001b[38;2;248;248;242;48;2;39;40;34m \u001b[0m\u001b[38;2;248;248;242;48;2;39;40;34m[\u001b[0m\u001b[38;2;248;248;242;48;2;39;40;34mx2\u001b[0m\u001b[38;2;248;248;242;48;2;39;40;34m,\u001b[0m\u001b[38;2;248;248;242;48;2;39;40;34m \u001b[0m\u001b[38;2;248;248;242;48;2;39;40;34my2\u001b[0m\u001b[38;2;248;248;242;48;2;39;40;34m,\u001b[0m\u001b[38;2;248;248;242;48;2;39;40;34m \u001b[0m\u001b[38;2;248;248;242;48;2;39;40;34mz2\u001b[0m\u001b[38;2;248;248;242;48;2;39;40;34m]\u001b[0m\u001b[38;2;248;248;242;48;2;39;40;34m]\u001b[0m\u001b[48;2;39;40;34m                                                                    \u001b[0m\u001b[48;2;39;40;34m \u001b[0m\n",
              "\u001b[48;2;39;40;34m \u001b[0m\u001b[38;2;248;248;242;48;2;39;40;34mwandb\u001b[0m\u001b[38;2;255;70;137;48;2;39;40;34m.\u001b[0m\u001b[38;2;248;248;242;48;2;39;40;34mlog\u001b[0m\u001b[38;2;248;248;242;48;2;39;40;34m(\u001b[0m\u001b[38;2;248;248;242;48;2;39;40;34m{\u001b[0m\u001b[38;2;230;219;116;48;2;39;40;34m\"\u001b[0m\u001b[38;2;230;219;116;48;2;39;40;34mcustom_data_table\u001b[0m\u001b[38;2;230;219;116;48;2;39;40;34m\"\u001b[0m\u001b[38;2;248;248;242;48;2;39;40;34m:\u001b[0m\u001b[38;2;248;248;242;48;2;39;40;34m \u001b[0m\u001b[38;2;248;248;242;48;2;39;40;34mwandb\u001b[0m\u001b[38;2;255;70;137;48;2;39;40;34m.\u001b[0m\u001b[38;2;248;248;242;48;2;39;40;34mTable\u001b[0m\u001b[38;2;248;248;242;48;2;39;40;34m(\u001b[0m\u001b[38;2;248;248;242;48;2;39;40;34mdata\u001b[0m\u001b[38;2;255;70;137;48;2;39;40;34m=\u001b[0m\u001b[38;2;248;248;242;48;2;39;40;34mmy_custom_data\u001b[0m\u001b[38;2;248;248;242;48;2;39;40;34m,\u001b[0m\u001b[48;2;39;40;34m                                                 \u001b[0m\u001b[48;2;39;40;34m \u001b[0m\n",
              "\u001b[48;2;39;40;34m \u001b[0m\u001b[38;2;248;248;242;48;2;39;40;34m                                \u001b[0m\u001b[38;2;248;248;242;48;2;39;40;34mcolumns\u001b[0m\u001b[38;2;248;248;242;48;2;39;40;34m \u001b[0m\u001b[38;2;255;70;137;48;2;39;40;34m=\u001b[0m\u001b[38;2;248;248;242;48;2;39;40;34m \u001b[0m\u001b[38;2;248;248;242;48;2;39;40;34m[\u001b[0m\u001b[38;2;230;219;116;48;2;39;40;34m\"\u001b[0m\u001b[38;2;230;219;116;48;2;39;40;34mx\u001b[0m\u001b[38;2;230;219;116;48;2;39;40;34m\"\u001b[0m\u001b[38;2;248;248;242;48;2;39;40;34m,\u001b[0m\u001b[38;2;248;248;242;48;2;39;40;34m \u001b[0m\u001b[38;2;230;219;116;48;2;39;40;34m\"\u001b[0m\u001b[38;2;230;219;116;48;2;39;40;34my\u001b[0m\u001b[38;2;230;219;116;48;2;39;40;34m\"\u001b[0m\u001b[38;2;248;248;242;48;2;39;40;34m,\u001b[0m\u001b[38;2;248;248;242;48;2;39;40;34m \u001b[0m\u001b[38;2;230;219;116;48;2;39;40;34m\"\u001b[0m\u001b[38;2;230;219;116;48;2;39;40;34mz\u001b[0m\u001b[38;2;230;219;116;48;2;39;40;34m\"\u001b[0m\u001b[38;2;248;248;242;48;2;39;40;34m]\u001b[0m\u001b[38;2;248;248;242;48;2;39;40;34m)\u001b[0m\u001b[38;2;248;248;242;48;2;39;40;34m}\u001b[0m\u001b[38;2;248;248;242;48;2;39;40;34m)\u001b[0m\u001b[48;2;39;40;34m                                                     \u001b[0m\u001b[48;2;39;40;34m \u001b[0m\n",
              "\u001b[48;2;39;40;34m                                                                                                                   \n",
              "\u001b[0m\n",
              "\u001b]8;id=47758;https://bit.ly/custom-charts-colab\u001b\\\u001b[4;34mTry a quick example notebook\u001b[0m\u001b]8;;\u001b\\ to log the data tables, and in the next step we'll set up custom charts. See what the \n",
              "resulting charts look like in the \u001b]8;id=60696;https://app.wandb.ai/demo-team/custom-charts/reports/Custom-Charts--VmlldzoyMTk5MDc\u001b\\\u001b[4;34mlive report\u001b[0m\u001b]8;;\u001b\\.                                                                     \n",
              "\n",
              "\n",
              "                                                 \u001b[1;4m2. Create a query\u001b[0m                                                 \n",
              "\n",
              "Once you've logged data to visualize, go to your project page and click the \u001b[1;36;40m+\u001b[0m button to add a new panel, then      \n",
              "select \u001b[1mCustom Chart\u001b[0m. You can follow along in \u001b]8;id=123612;https://app.wandb.ai/demo-team/custom-charts\u001b\\\u001b[4;34mthis workspace\u001b[0m\u001b]8;;\u001b\\.                                                       \n",
              "\n",
              "🌆 \u001b]8;id=920552;/images/app_ui/create_a_query.png\u001b\\A new, blank custom chart ready to be configured\u001b]8;;\u001b\\                                                                                                                    \n",
              "\n",
              "                                                    \u001b[1mAdd a query\u001b[0m                                                    \n",
              "\n",
              "\u001b[1;33m 1 \u001b[0mClick \u001b[1;36;40msummary\u001b[0m and select \u001b[1;36;40mhistoryTable\u001b[0m to set up a new query pulling data from the run history.                  \n",
              "\u001b[1;33m 2 \u001b[0mType in the key where you logged the \u001b[1mwandb.Table()\u001b[0m. In the code snippet above, it was \u001b[1;36;40mmy_custom_table\u001b[0m . In the  \n",
              "\u001b[1;33m   \u001b[0m\u001b]8;id=947556;https://bit.ly/custom-charts-colab\u001b\\\u001b[4;34mexample notebook\u001b[0m\u001b]8;;\u001b\\, the keys are \u001b[1;36;40mpr_curve\u001b[0m and \u001b[1;36;40mroc_curve\u001b[0m.                                                          \n",
              "\n",
              "                                                  \u001b[1mSet Vega fields\u001b[0m                                                  \n",
              "\n",
              "Now that the query is loading in these columns, they're available as options to select in the Vega fields dropdown \n",
              "menus:                                                                                                             \n",
              "\n",
              "🌆 \u001b]8;id=607271;/images/app_ui/set_vega_fields.png\u001b\\Pulling in columns from the query results to set Vega fields\u001b]8;;\u001b\\                                                                                                                    \n",
              "\n",
              "\u001b[1;33m • \u001b[0m\u001b[1mx-axis:\u001b[0m runSets_historyTable_r                                                                                  \n",
              "\n",
              "\u001b[33m───────────────────────────────────────────────────────────────────────────────────────────────────────────────────\u001b[0m\n",
              "You will now generate a user question and corresponding answer based on the above document. First, explain the user\n",
              "context and what problems they might be trying to solve. Second, generate user question. Third, provide the        \n",
              "accurate and concise answer in markdown format to the user question using the documentation. You'll be evaluated   \n",
              "on:                                                                                                                \n",
              "\n",
              "\u001b[1;33m • \u001b[0mhow realistic is that this question will come from a real user one day?                                         \n",
              "\u001b[1;33m • \u001b[0mis this question about W&B?                                                                                     \n",
              "\u001b[1;33m • \u001b[0mcan the question be answered using the W&B document fragment above?                                             \n",
              "\u001b[1;33m • \u001b[0mhow accurate is the answer? Remember that users have different styles and can be imprecise. You are very good at\n",
              "\u001b[1;33m   \u001b[0mimpersonating them! Use the following format: CONTEXT: QUESTION: ANSWER: Let's start!                           \n"
            ],
            "text/html": [
              "<pre style=\"white-space:pre;overflow-x:auto;line-height:normal;font-family:Menlo,'DejaVu Sans Mono',consolas,'Courier New',monospace\">Here are some examples of real user questions, you will be judged by how well you match this distribution.         \n",
              "\n",
              "<span style=\"color: #808000; text-decoration-color: #808000\">───────────────────────────────────────────────────────────────────────────────────────────────────────────────────</span>\n",
              "How can I log my results in my team profile and not in my personal profile? I am trying to integrate gradio block  \n",
              "in wandb. Here are my last three lines of code                                                                     \n",
              "\n",
              "<span style=\"color: #008080; text-decoration-color: #008080; background-color: #000000; font-weight: bold\">run = wandb.init(project=prms.WANDB_PROJECT, entity=prms.WANDB_ENTITY, job_type=\"gradio\") block.launch(share=True) </span>\n",
              "<span style=\"color: #008080; text-decoration-color: #008080; background-color: #000000; font-weight: bold\">block.integrate(wandb=wandb)</span>                                                                                       \n",
              "\n",
              "gradio app is launched and working, wandb run as well, but there is not logged block in wandb                      \n",
              "\n",
              "shouldn't it be enough to call the iface.integrate(wandb=wandb)? I am using the Hugging Face trainer to train a    \n",
              "GPT-2 model. How can I log in wandb an example of what the model generates in each evaluation? For instance, at    \n",
              "step 300 I want the log an example of the text generated by the model, and then again at step 600, and so on.      \n",
              "\n",
              "<span style=\"color: #808000; text-decoration-color: #808000\">───────────────────────────────────────────────────────────────────────────────────────────────────────────────────</span>\n",
              "In the next step, you will read a fragment of W&amp;B documentation. This will serve as inspiration for synthetic user \n",
              "question and the source of the answer. Here is the document fragment:                                              \n",
              "\n",
              "<span style=\"color: #808000; text-decoration-color: #808000\">───────────────────────────────────────────────────────────────────────────────────────────────────────────────────</span>\n",
              "a panel and how you visualize that data.                                                                           \n",
              "\n",
              "<span style=\"font-weight: bold\">Overview</span>                                                                                                           \n",
              "\n",
              "<span style=\"color: #808000; text-decoration-color: #808000; font-weight: bold\"> 1 </span>Log data to W&amp;B                                                                                                 \n",
              "<span style=\"color: #808000; text-decoration-color: #808000; font-weight: bold\"> 2 </span>Create a query                                                                                                  \n",
              "<span style=\"color: #808000; text-decoration-color: #808000; font-weight: bold\"> 3 </span>Customize the chart                                                                                             \n",
              "\n",
              "\n",
              "                                                <span style=\"font-weight: bold; text-decoration: underline\">1. Log data to W&amp;B</span>                                                 \n",
              "\n",
              "First, log data in your script. Use <a href=\"../../../../guides/track/config.md\" target=\"_blank\"><span style=\"color: #000080; text-decoration-color: #000080; text-decoration: underline\">wandb.config</span></a> for single points set at the beginning of training, like          \n",
              "hyperparameters. Use <a href=\"../../../../guides/track/log/intro.md\" target=\"_blank\"><span style=\"color: #000080; text-decoration-color: #000080; text-decoration: underline\">wandb.log()</span></a> for multiple points over time, and log custom 2D arrays with wandb.Table(). We    \n",
              "recommend logging up to 10,000 data points per logged key.                                                         \n",
              "\n",
              "<span style=\"background-color: #272822\">                                                                                                                   \n",
              " </span><span style=\"color: #959077; text-decoration-color: #959077; background-color: #272822\"># Logging a custom table of data</span><span style=\"background-color: #272822\">                                                                                  </span>\n",
              "<span style=\"background-color: #272822\"> </span><span style=\"color: #f8f8f2; text-decoration-color: #f8f8f2; background-color: #272822\">my_custom_data </span><span style=\"color: #ff4689; text-decoration-color: #ff4689; background-color: #272822\">=</span><span style=\"color: #f8f8f2; text-decoration-color: #f8f8f2; background-color: #272822\"> [[x1, y1, z1], [x2, y2, z2]]</span><span style=\"background-color: #272822\">                                                                     </span>\n",
              "<span style=\"background-color: #272822\"> </span><span style=\"color: #f8f8f2; text-decoration-color: #f8f8f2; background-color: #272822\">wandb</span><span style=\"color: #ff4689; text-decoration-color: #ff4689; background-color: #272822\">.</span><span style=\"color: #f8f8f2; text-decoration-color: #f8f8f2; background-color: #272822\">log({</span><span style=\"color: #e6db74; text-decoration-color: #e6db74; background-color: #272822\">\"custom_data_table\"</span><span style=\"color: #f8f8f2; text-decoration-color: #f8f8f2; background-color: #272822\">: wandb</span><span style=\"color: #ff4689; text-decoration-color: #ff4689; background-color: #272822\">.</span><span style=\"color: #f8f8f2; text-decoration-color: #f8f8f2; background-color: #272822\">Table(data</span><span style=\"color: #ff4689; text-decoration-color: #ff4689; background-color: #272822\">=</span><span style=\"color: #f8f8f2; text-decoration-color: #f8f8f2; background-color: #272822\">my_custom_data,</span><span style=\"background-color: #272822\">                                                  </span>\n",
              "<span style=\"background-color: #272822\"> </span><span style=\"color: #f8f8f2; text-decoration-color: #f8f8f2; background-color: #272822\">                                columns </span><span style=\"color: #ff4689; text-decoration-color: #ff4689; background-color: #272822\">=</span><span style=\"color: #f8f8f2; text-decoration-color: #f8f8f2; background-color: #272822\"> [</span><span style=\"color: #e6db74; text-decoration-color: #e6db74; background-color: #272822\">\"x\"</span><span style=\"color: #f8f8f2; text-decoration-color: #f8f8f2; background-color: #272822\">, </span><span style=\"color: #e6db74; text-decoration-color: #e6db74; background-color: #272822\">\"y\"</span><span style=\"color: #f8f8f2; text-decoration-color: #f8f8f2; background-color: #272822\">, </span><span style=\"color: #e6db74; text-decoration-color: #e6db74; background-color: #272822\">\"z\"</span><span style=\"color: #f8f8f2; text-decoration-color: #f8f8f2; background-color: #272822\">])})</span><span style=\"background-color: #272822\">                                                      </span>\n",
              "<span style=\"background-color: #272822\">                                                                                                                   \n",
              "</span>\n",
              "<a href=\"https://bit.ly/custom-charts-colab\" target=\"_blank\"><span style=\"color: #000080; text-decoration-color: #000080; text-decoration: underline\">Try a quick example notebook</span></a> to log the data tables, and in the next step we'll set up custom charts. See what the \n",
              "resulting charts look like in the <a href=\"https://app.wandb.ai/demo-team/custom-charts/reports/Custom-Charts--VmlldzoyMTk5MDc\" target=\"_blank\"><span style=\"color: #000080; text-decoration-color: #000080; text-decoration: underline\">live report</span></a>.                                                                     \n",
              "\n",
              "\n",
              "                                                 <span style=\"font-weight: bold; text-decoration: underline\">2. Create a query</span>                                                 \n",
              "\n",
              "Once you've logged data to visualize, go to your project page and click the <span style=\"color: #008080; text-decoration-color: #008080; background-color: #000000; font-weight: bold\">+</span> button to add a new panel, then      \n",
              "select <span style=\"font-weight: bold\">Custom Chart</span>. You can follow along in <a href=\"https://app.wandb.ai/demo-team/custom-charts\" target=\"_blank\"><span style=\"color: #000080; text-decoration-color: #000080; text-decoration: underline\">this workspace</span></a>.                                                       \n",
              "\n",
              "🌆 <a href=\"/images/app_ui/create_a_query.png\" target=\"_blank\">A new, blank custom chart ready to be configured</a>                                                                                                                    \n",
              "\n",
              "                                                    <span style=\"font-weight: bold\">Add a query</span>                                                    \n",
              "\n",
              "<span style=\"color: #808000; text-decoration-color: #808000; font-weight: bold\"> 1 </span>Click <span style=\"color: #008080; text-decoration-color: #008080; background-color: #000000; font-weight: bold\">summary</span> and select <span style=\"color: #008080; text-decoration-color: #008080; background-color: #000000; font-weight: bold\">historyTable</span> to set up a new query pulling data from the run history.                  \n",
              "<span style=\"color: #808000; text-decoration-color: #808000; font-weight: bold\"> 2 </span>Type in the key where you logged the <span style=\"font-weight: bold\">wandb.Table()</span>. In the code snippet above, it was <span style=\"color: #008080; text-decoration-color: #008080; background-color: #000000; font-weight: bold\">my_custom_table</span> . In the  \n",
              "<span style=\"color: #808000; text-decoration-color: #808000; font-weight: bold\">   </span><a href=\"https://bit.ly/custom-charts-colab\" target=\"_blank\"><span style=\"color: #000080; text-decoration-color: #000080; text-decoration: underline\">example notebook</span></a>, the keys are <span style=\"color: #008080; text-decoration-color: #008080; background-color: #000000; font-weight: bold\">pr_curve</span> and <span style=\"color: #008080; text-decoration-color: #008080; background-color: #000000; font-weight: bold\">roc_curve</span>.                                                          \n",
              "\n",
              "                                                  <span style=\"font-weight: bold\">Set Vega fields</span>                                                  \n",
              "\n",
              "Now that the query is loading in these columns, they're available as options to select in the Vega fields dropdown \n",
              "menus:                                                                                                             \n",
              "\n",
              "🌆 <a href=\"/images/app_ui/set_vega_fields.png\" target=\"_blank\">Pulling in columns from the query results to set Vega fields</a>                                                                                                                    \n",
              "\n",
              "<span style=\"color: #808000; text-decoration-color: #808000; font-weight: bold\"> • </span><span style=\"font-weight: bold\">x-axis:</span> runSets_historyTable_r                                                                                  \n",
              "\n",
              "<span style=\"color: #808000; text-decoration-color: #808000\">───────────────────────────────────────────────────────────────────────────────────────────────────────────────────</span>\n",
              "You will now generate a user question and corresponding answer based on the above document. First, explain the user\n",
              "context and what problems they might be trying to solve. Second, generate user question. Third, provide the        \n",
              "accurate and concise answer in markdown format to the user question using the documentation. You'll be evaluated   \n",
              "on:                                                                                                                \n",
              "\n",
              "<span style=\"color: #808000; text-decoration-color: #808000; font-weight: bold\"> • </span>how realistic is that this question will come from a real user one day?                                         \n",
              "<span style=\"color: #808000; text-decoration-color: #808000; font-weight: bold\"> • </span>is this question about W&amp;B?                                                                                     \n",
              "<span style=\"color: #808000; text-decoration-color: #808000; font-weight: bold\"> • </span>can the question be answered using the W&amp;B document fragment above?                                             \n",
              "<span style=\"color: #808000; text-decoration-color: #808000; font-weight: bold\"> • </span>how accurate is the answer? Remember that users have different styles and can be imprecise. You are very good at\n",
              "<span style=\"color: #808000; text-decoration-color: #808000; font-weight: bold\">   </span>impersonating them! Use the following format: CONTEXT: QUESTION: ANSWER: Let's start!                           \n",
              "</pre>\n"
            ]
          },
          "metadata": {},
          "execution_count": 28
        }
      ],
      "source": [
        "Markdown(user_prompt)"
      ]
    },
    {
      "cell_type": "code",
      "execution_count": 29,
      "metadata": {
        "id": "AJ21INXU4msy"
      },
      "outputs": [],
      "source": [
        "def generate_questions(documents, n_questions=3, n_generations=5):\n",
        "    questions = []\n",
        "    for _, document in documents:\n",
        "        chunk = extract_random_chunk(document)\n",
        "        user_prompt = generate_context_prompt(chunk, n_questions)\n",
        "        messages=[\n",
        "            {\"role\": \"system\", \"content\": system_prompt},\n",
        "            {\"role\": \"user\", \"content\": user_prompt},\n",
        "        ]\n",
        "        response = completion_with_backoff(\n",
        "            model=MODEL_NAME,\n",
        "            messages=messages,\n",
        "            n = n_generations,\n",
        "            )\n",
        "        questions.extend([response.choices[i].message.content for i in range(n_generations)])\n",
        "    return questions"
      ]
    },
    {
      "cell_type": "markdown",
      "metadata": {
        "id": "OJ9eVJYO4msy"
      },
      "source": [
        "> A Note about the `system` role: For GPT4 based pipelines you probably want to move some part of the context prompt to the `system` context. As we are using `gpt3.5-turbo` here, you can put the instruction on the user prompt, you can read more about this on [OpenAI docs here](https://platform.openai.com/docs/guides/chat/instructing-chat-models)"
      ]
    },
    {
      "cell_type": "code",
      "execution_count": 30,
      "metadata": {
        "id": "aZjOnVjG4msz"
      },
      "outputs": [],
      "source": [
        "# function to parse model generation and extract CONTEXT, QUESTION and ANSWER\n",
        "def parse_generation(generation):\n",
        "    lines = generation.split(\"\\n\")\n",
        "    context = []\n",
        "    question = []\n",
        "    answer = []\n",
        "    flag = None\n",
        "\n",
        "    for line in lines:\n",
        "        if \"CONTEXT:\" in line:\n",
        "            flag = \"context\"\n",
        "            line = line.replace(\"CONTEXT:\", \"\").strip()\n",
        "        elif \"QUESTION:\" in line:\n",
        "            flag = \"question\"\n",
        "            line = line.replace(\"QUESTION:\", \"\").strip()\n",
        "        elif \"ANSWER:\" in line:\n",
        "            flag = \"answer\"\n",
        "            line = line.replace(\"ANSWER:\", \"\").strip()\n",
        "\n",
        "        if flag == \"context\":\n",
        "            context.append(line)\n",
        "        elif flag == \"question\":\n",
        "            question.append(line)\n",
        "        elif flag == \"answer\":\n",
        "            answer.append(line)\n",
        "\n",
        "    context = \"\\n\".join(context)\n",
        "    question = \"\\n\".join(question)\n",
        "    answer = \"\\n\".join(answer)\n",
        "    return context, question, answer"
      ]
    },
    {
      "cell_type": "code",
      "execution_count": 31,
      "metadata": {
        "id": "ApxMp1Hu4msz",
        "colab": {
          "base_uri": "https://localhost:8080/"
        },
        "outputId": "728d3190-4583-42f9-df5c-9b9453554dbd"
      },
      "outputs": [
        {
          "output_type": "execute_result",
          "data": {
            "text/plain": [
              "('\\nThe user might have successfully logged data to a W&B project and now they would like to visualize this data in a custom way, specifically by creating a custom chart. They eventually want to share this custom chart with colleagues or keep it for future usage in this project or other projects. \\n',\n",
              " '\\nHow can I create a custom chart in Weights and Biases, and is it possible to save it for future use? \\n',\n",
              " \"\\nSure, you can definitely create a custom chart and once you are content with the visualization, you can save it for future purposes. Here is a step-by-step guide on how to do it:\\n\\n1. Go to your project page and click the **`+`** button to add a new panel, then select **Custom Chart**.\\n\\n2. Set up a new query by clicking `summary` and selecting `historyTable` to pull data from the run history. Then in the key section, log the **wandb.Table()**. For example, if your key was `my_custom_table` , type that in.\\n\\n3. Once the query loads in columns, they'll be available as options to select in the Vega fields dropdown menus. These would be your x-axis, y-axis, color etc.\\n\\n4. Once you get the visualization, and you think it looks alright, but you'd like to switch, for example from a scatter plot to a line plot, you can just click **Edit** to change the Vega spec for this built in chart. \\n\\n5. Finally, to save this chart for future use or to share with colleagues, click **Save as** at the top of the page. This will save it as a preset that you can use elsewhere in your project. \\n\\nYou can also explore this process in more detail with [this demo](https://app.wandb.ai/demo-team/custom-charts).\")"
            ]
          },
          "metadata": {},
          "execution_count": 31
        }
      ],
      "source": [
        "generations = generate_questions([documents[0]], n_questions=3, n_generations=5)\n",
        "parse_generation(generations[0])"
      ]
    },
    {
      "cell_type": "code",
      "execution_count": 32,
      "metadata": {
        "id": "NQALihmu4msz",
        "colab": {
          "base_uri": "https://localhost:8080/"
        },
        "outputId": "675bd0d3-9aa9-41f5-bdd1-3b91c0aff72e"
      },
      "outputs": [
        {
          "output_type": "execute_result",
          "data": {
            "text/plain": [
              "<Artifact generated_examples>"
            ]
          },
          "metadata": {},
          "execution_count": 32
        }
      ],
      "source": [
        "parsed_generations = []\n",
        "generations = generate_questions(documents, n_questions=3, n_generations=5)\n",
        "for generation in generations:\n",
        "    context, question, answer = parse_generation(generation)\n",
        "    parsed_generations.append({\"context\": context, \"question\": question, \"answer\": answer})\n",
        "\n",
        "# let's convert parsed_generations to a pandas dataframe and save it locally\n",
        "df = pd.DataFrame(parsed_generations)\n",
        "df.to_csv('generated_examples.csv', index=False)\n",
        "\n",
        "# log df as a table to W&B for interactive exploration\n",
        "wandb.log({\"generated_examples\": wandb.Table(dataframe=df)})\n",
        "\n",
        "# log csv file as an artifact to W&B for later use\n",
        "artifact = wandb.Artifact(\"generated_examples\", type=\"dataset\")\n",
        "artifact.add_file(\"generated_examples.csv\")\n",
        "wandb.log_artifact(artifact)"
      ]
    },
    {
      "cell_type": "code",
      "execution_count": 33,
      "metadata": {
        "id": "xD1QahBX4ms0",
        "colab": {
          "base_uri": "https://localhost:8080/",
          "height": 328,
          "referenced_widgets": [
            "ea93326319fe4db6af6f6bab97a0b58a",
            "e29cedbba1bc4e27be1a9080004dcb7b",
            "40efe54c425f4ccb93e3d3e3a36fb981",
            "1489f3ddd50f4a009229cc4edce9e31d",
            "32b3ca8f696247d093a13f43f1a5c4b2",
            "dd7c3d6dfdf14d5bb04f14e1cf3a3667",
            "1b7fb6715ed842168e09fb4fc49eb321",
            "72af7435de784783a9a4eda3e1abbbd4"
          ]
        },
        "outputId": "8a1d02db-0ed8-461e-ade4-a6439bde51bd"
      },
      "outputs": [
        {
          "output_type": "display_data",
          "data": {
            "text/plain": [
              "<IPython.core.display.HTML object>"
            ],
            "text/html": [
              "Waiting for W&B process to finish... <strong style=\"color:green\">(success).</strong>"
            ]
          },
          "metadata": {}
        },
        {
          "output_type": "display_data",
          "data": {
            "text/plain": [
              "VBox(children=(Label(value='0.934 MB of 0.986 MB uploaded (0.000 MB deduped)\\r'), FloatProgress(value=0.947025…"
            ],
            "application/vnd.jupyter.widget-view+json": {
              "version_major": 2,
              "version_minor": 0,
              "model_id": "ea93326319fe4db6af6f6bab97a0b58a"
            }
          },
          "metadata": {}
        },
        {
          "output_type": "display_data",
          "data": {
            "text/plain": [
              "<IPython.core.display.HTML object>"
            ],
            "text/html": [
              "<style>\n",
              "    table.wandb td:nth-child(1) { padding: 0 10px; text-align: left ; width: auto;} td:nth-child(2) {text-align: left ; width: 100%}\n",
              "    .wandb-row { display: flex; flex-direction: row; flex-wrap: wrap; justify-content: flex-start; width: 100% }\n",
              "    .wandb-col { display: flex; flex-direction: column; flex-basis: 100%; flex: 1; padding: 10px; }\n",
              "    </style>\n",
              "<div class=\"wandb-row\"><div class=\"wandb-col\"><h3>Run history:</h3><br/><table class=\"wandb\"><tr><td>usage/completion_tokens</td><td>▁▃▁▇▆█▇▅▅▆██▆▇█</td></tr><tr><td>usage/elapsed_time</td><td>▁▃▂▆▅▇▆▅▅▆█▇▆▇█</td></tr><tr><td>usage/prompt_tokens</td><td>▁▂▅███▇█▇▆█████</td></tr><tr><td>usage/total_tokens</td><td>▁▃▃▇▇█▇▆▆▇██▇▇█</td></tr></table><br/></div><div class=\"wandb-col\"><h3>Run summary:</h3><br/><table class=\"wandb\"><tr><td>usage/completion_tokens</td><td>1777</td></tr><tr><td>usage/elapsed_time</td><td>42.03143</td></tr><tr><td>usage/prompt_tokens</td><td>924</td></tr><tr><td>usage/total_tokens</td><td>2701</td></tr></table><br/></div></div>"
            ]
          },
          "metadata": {}
        },
        {
          "output_type": "display_data",
          "data": {
            "text/plain": [
              "<IPython.core.display.HTML object>"
            ],
            "text/html": [
              " View run <strong style=\"color:#cdcd00\">vague-disco-2</strong> at: <a href='https://wandb.ai/johannshetti/llmapps/runs/ol6yw5fs' target=\"_blank\">https://wandb.ai/johannshetti/llmapps/runs/ol6yw5fs</a><br/>Synced 5 W&B file(s), 16 media file(s), 17 artifact file(s) and 0 other file(s)"
            ]
          },
          "metadata": {}
        },
        {
          "output_type": "display_data",
          "data": {
            "text/plain": [
              "<IPython.core.display.HTML object>"
            ],
            "text/html": [
              "Find logs at: <code>./wandb/run-20230830_194158-ol6yw5fs/logs</code>"
            ]
          },
          "metadata": {}
        }
      ],
      "source": [
        "wandb.finish()"
      ]
    },
    {
      "cell_type": "code",
      "execution_count": null,
      "metadata": {
        "id": "97E3MlrV4ms0"
      },
      "outputs": [],
      "source": []
    }
  ],
  "metadata": {
    "accelerator": "GPU",
    "colab": {
      "provenance": []
    },
    "kernelspec": {
      "display_name": "Python 3 (ipykernel)",
      "language": "python",
      "name": "python3"
    },
    "language_info": {
      "codemirror_mode": {
        "name": "ipython",
        "version": 3
      },
      "file_extension": ".py",
      "mimetype": "text/x-python",
      "name": "python",
      "nbconvert_exporter": "python",
      "pygments_lexer": "ipython3",
      "version": "3.11.2"
    },
    "widgets": {
      "application/vnd.jupyter.widget-state+json": {
        "ea93326319fe4db6af6f6bab97a0b58a": {
          "model_module": "@jupyter-widgets/controls",
          "model_name": "VBoxModel",
          "model_module_version": "1.5.0",
          "state": {
            "_dom_classes": [],
            "_model_module": "@jupyter-widgets/controls",
            "_model_module_version": "1.5.0",
            "_model_name": "VBoxModel",
            "_view_count": null,
            "_view_module": "@jupyter-widgets/controls",
            "_view_module_version": "1.5.0",
            "_view_name": "VBoxView",
            "box_style": "",
            "children": [
              "IPY_MODEL_e29cedbba1bc4e27be1a9080004dcb7b",
              "IPY_MODEL_40efe54c425f4ccb93e3d3e3a36fb981"
            ],
            "layout": "IPY_MODEL_1489f3ddd50f4a009229cc4edce9e31d"
          }
        },
        "e29cedbba1bc4e27be1a9080004dcb7b": {
          "model_module": "@jupyter-widgets/controls",
          "model_name": "LabelModel",
          "model_module_version": "1.5.0",
          "state": {
            "_dom_classes": [],
            "_model_module": "@jupyter-widgets/controls",
            "_model_module_version": "1.5.0",
            "_model_name": "LabelModel",
            "_view_count": null,
            "_view_module": "@jupyter-widgets/controls",
            "_view_module_version": "1.5.0",
            "_view_name": "LabelView",
            "description": "",
            "description_tooltip": null,
            "layout": "IPY_MODEL_32b3ca8f696247d093a13f43f1a5c4b2",
            "placeholder": "​",
            "style": "IPY_MODEL_dd7c3d6dfdf14d5bb04f14e1cf3a3667",
            "value": "0.934 MB of 0.986 MB uploaded (0.000 MB deduped)\r"
          }
        },
        "40efe54c425f4ccb93e3d3e3a36fb981": {
          "model_module": "@jupyter-widgets/controls",
          "model_name": "FloatProgressModel",
          "model_module_version": "1.5.0",
          "state": {
            "_dom_classes": [],
            "_model_module": "@jupyter-widgets/controls",
            "_model_module_version": "1.5.0",
            "_model_name": "FloatProgressModel",
            "_view_count": null,
            "_view_module": "@jupyter-widgets/controls",
            "_view_module_version": "1.5.0",
            "_view_name": "ProgressView",
            "bar_style": "",
            "description": "",
            "description_tooltip": null,
            "layout": "IPY_MODEL_1b7fb6715ed842168e09fb4fc49eb321",
            "max": 1,
            "min": 0,
            "orientation": "horizontal",
            "style": "IPY_MODEL_72af7435de784783a9a4eda3e1abbbd4",
            "value": 0.9470259530849939
          }
        },
        "1489f3ddd50f4a009229cc4edce9e31d": {
          "model_module": "@jupyter-widgets/base",
          "model_name": "LayoutModel",
          "model_module_version": "1.2.0",
          "state": {
            "_model_module": "@jupyter-widgets/base",
            "_model_module_version": "1.2.0",
            "_model_name": "LayoutModel",
            "_view_count": null,
            "_view_module": "@jupyter-widgets/base",
            "_view_module_version": "1.2.0",
            "_view_name": "LayoutView",
            "align_content": null,
            "align_items": null,
            "align_self": null,
            "border": null,
            "bottom": null,
            "display": null,
            "flex": null,
            "flex_flow": null,
            "grid_area": null,
            "grid_auto_columns": null,
            "grid_auto_flow": null,
            "grid_auto_rows": null,
            "grid_column": null,
            "grid_gap": null,
            "grid_row": null,
            "grid_template_areas": null,
            "grid_template_columns": null,
            "grid_template_rows": null,
            "height": null,
            "justify_content": null,
            "justify_items": null,
            "left": null,
            "margin": null,
            "max_height": null,
            "max_width": null,
            "min_height": null,
            "min_width": null,
            "object_fit": null,
            "object_position": null,
            "order": null,
            "overflow": null,
            "overflow_x": null,
            "overflow_y": null,
            "padding": null,
            "right": null,
            "top": null,
            "visibility": null,
            "width": null
          }
        },
        "32b3ca8f696247d093a13f43f1a5c4b2": {
          "model_module": "@jupyter-widgets/base",
          "model_name": "LayoutModel",
          "model_module_version": "1.2.0",
          "state": {
            "_model_module": "@jupyter-widgets/base",
            "_model_module_version": "1.2.0",
            "_model_name": "LayoutModel",
            "_view_count": null,
            "_view_module": "@jupyter-widgets/base",
            "_view_module_version": "1.2.0",
            "_view_name": "LayoutView",
            "align_content": null,
            "align_items": null,
            "align_self": null,
            "border": null,
            "bottom": null,
            "display": null,
            "flex": null,
            "flex_flow": null,
            "grid_area": null,
            "grid_auto_columns": null,
            "grid_auto_flow": null,
            "grid_auto_rows": null,
            "grid_column": null,
            "grid_gap": null,
            "grid_row": null,
            "grid_template_areas": null,
            "grid_template_columns": null,
            "grid_template_rows": null,
            "height": null,
            "justify_content": null,
            "justify_items": null,
            "left": null,
            "margin": null,
            "max_height": null,
            "max_width": null,
            "min_height": null,
            "min_width": null,
            "object_fit": null,
            "object_position": null,
            "order": null,
            "overflow": null,
            "overflow_x": null,
            "overflow_y": null,
            "padding": null,
            "right": null,
            "top": null,
            "visibility": null,
            "width": null
          }
        },
        "dd7c3d6dfdf14d5bb04f14e1cf3a3667": {
          "model_module": "@jupyter-widgets/controls",
          "model_name": "DescriptionStyleModel",
          "model_module_version": "1.5.0",
          "state": {
            "_model_module": "@jupyter-widgets/controls",
            "_model_module_version": "1.5.0",
            "_model_name": "DescriptionStyleModel",
            "_view_count": null,
            "_view_module": "@jupyter-widgets/base",
            "_view_module_version": "1.2.0",
            "_view_name": "StyleView",
            "description_width": ""
          }
        },
        "1b7fb6715ed842168e09fb4fc49eb321": {
          "model_module": "@jupyter-widgets/base",
          "model_name": "LayoutModel",
          "model_module_version": "1.2.0",
          "state": {
            "_model_module": "@jupyter-widgets/base",
            "_model_module_version": "1.2.0",
            "_model_name": "LayoutModel",
            "_view_count": null,
            "_view_module": "@jupyter-widgets/base",
            "_view_module_version": "1.2.0",
            "_view_name": "LayoutView",
            "align_content": null,
            "align_items": null,
            "align_self": null,
            "border": null,
            "bottom": null,
            "display": null,
            "flex": null,
            "flex_flow": null,
            "grid_area": null,
            "grid_auto_columns": null,
            "grid_auto_flow": null,
            "grid_auto_rows": null,
            "grid_column": null,
            "grid_gap": null,
            "grid_row": null,
            "grid_template_areas": null,
            "grid_template_columns": null,
            "grid_template_rows": null,
            "height": null,
            "justify_content": null,
            "justify_items": null,
            "left": null,
            "margin": null,
            "max_height": null,
            "max_width": null,
            "min_height": null,
            "min_width": null,
            "object_fit": null,
            "object_position": null,
            "order": null,
            "overflow": null,
            "overflow_x": null,
            "overflow_y": null,
            "padding": null,
            "right": null,
            "top": null,
            "visibility": null,
            "width": null
          }
        },
        "72af7435de784783a9a4eda3e1abbbd4": {
          "model_module": "@jupyter-widgets/controls",
          "model_name": "ProgressStyleModel",
          "model_module_version": "1.5.0",
          "state": {
            "_model_module": "@jupyter-widgets/controls",
            "_model_module_version": "1.5.0",
            "_model_name": "ProgressStyleModel",
            "_view_count": null,
            "_view_module": "@jupyter-widgets/base",
            "_view_module_version": "1.2.0",
            "_view_name": "StyleView",
            "bar_color": null,
            "description_width": ""
          }
        }
      }
    }
  },
  "nbformat": 4,
  "nbformat_minor": 0
}