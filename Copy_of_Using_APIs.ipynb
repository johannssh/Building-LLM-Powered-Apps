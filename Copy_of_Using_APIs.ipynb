{
  "cells": [
    {
      "cell_type": "markdown",
      "metadata": {
        "id": "view-in-github",
        "colab_type": "text"
      },
      "source": [
        "<a href=\"https://colab.research.google.com/github/johannssh/Building-LLM-Powered-Apps/blob/main/Copy_of_Using_APIs.ipynb\" target=\"_parent\"><img src=\"https://colab.research.google.com/assets/colab-badge.svg\" alt=\"Open In Colab\"/></a>"
      ]
    },
    {
      "cell_type": "markdown",
      "metadata": {
        "id": "D9zlnvDzSEnw"
      },
      "source": [
        "<a href=\"https://colab.research.google.com/github/wandb/edu/blob/main/llm-apps-course/notebooks/01.%20Using_APIs.ipynb\" target=\"_parent\"><img src=\"https://colab.research.google.com/assets/colab-badge.svg\" alt=\"Open In Colab\"/></a>\n",
        "<!--- @wandbcode{llmapps-intro} -->"
      ]
    },
    {
      "cell_type": "markdown",
      "metadata": {
        "id": "bOhwpVBfSEoC"
      },
      "source": [
        "# Understanding LLM APIs\n",
        "\n",
        "We will explore OpenAI models API to generate text.\n",
        "\n",
        "<!--- @wandbcode{llmapps-intro} -->"
      ]
    },
    {
      "cell_type": "markdown",
      "metadata": {
        "id": "NYmdcKCSSEoE"
      },
      "source": [
        "### Setup"
      ]
    },
    {
      "cell_type": "code",
      "execution_count": 1,
      "metadata": {
        "id": "eKB-0MzZSEoF",
        "colab": {
          "base_uri": "https://localhost:8080/"
        },
        "outputId": "c3bc6317-24a0-42ab-9025-00a17aadc557"
      },
      "outputs": [
        {
          "output_type": "stream",
          "name": "stdout",
          "text": [
            "\u001b[2K     \u001b[90m━━━━━━━━━━━━━━━━━━━━━━━━━━━━━━━━━━━━━━━━\u001b[0m \u001b[32m75.5/75.5 kB\u001b[0m \u001b[31m2.3 MB/s\u001b[0m eta \u001b[36m0:00:00\u001b[0m\n",
            "\u001b[2K     \u001b[90m━━━━━━━━━━━━━━━━━━━━━━━━━━━━━━━━━━━━━━━━\u001b[0m \u001b[32m1.7/1.7 MB\u001b[0m \u001b[31m10.6 MB/s\u001b[0m eta \u001b[36m0:00:00\u001b[0m\n",
            "\u001b[2K     \u001b[90m━━━━━━━━━━━━━━━━━━━━━━━━━━━━━━━━━━━━━━━━\u001b[0m \u001b[32m2.1/2.1 MB\u001b[0m \u001b[31m17.4 MB/s\u001b[0m eta \u001b[36m0:00:00\u001b[0m\n",
            "\u001b[2K     \u001b[90m━━━━━━━━━━━━━━━━━━━━━━━━━━━━━━━━━━━━━━\u001b[0m \u001b[32m188.5/188.5 kB\u001b[0m \u001b[31m19.7 MB/s\u001b[0m eta \u001b[36m0:00:00\u001b[0m\n",
            "\u001b[2K     \u001b[90m━━━━━━━━━━━━━━━━━━━━━━━━━━━━━━━━━━━━━━\u001b[0m \u001b[32m215.6/215.6 kB\u001b[0m \u001b[31m21.2 MB/s\u001b[0m eta \u001b[36m0:00:00\u001b[0m\n",
            "\u001b[?25h  Preparing metadata (setup.py) ... \u001b[?25l\u001b[?25hdone\n",
            "\u001b[2K     \u001b[90m━━━━━━━━━━━━━━━━━━━━━━━━━━━━━━━━━━━━━━━━\u001b[0m \u001b[32m62.7/62.7 kB\u001b[0m \u001b[31m3.5 MB/s\u001b[0m eta \u001b[36m0:00:00\u001b[0m\n",
            "\u001b[?25h  Building wheel for pathtools (setup.py) ... \u001b[?25l\u001b[?25hdone\n"
          ]
        }
      ],
      "source": [
        "%pip install --upgrade openai tiktoken wandb -qq"
      ]
    },
    {
      "cell_type": "code",
      "execution_count": 3,
      "metadata": {
        "id": "gTZHtgpRSEoK"
      },
      "outputs": [],
      "source": [
        "import os\n",
        "import openai\n",
        "import tiktoken\n",
        "import wandb\n",
        "from pprint import pprint\n",
        "from getpass import getpass\n",
        "from wandb.integration.openai import autolog"
      ]
    },
    {
      "cell_type": "markdown",
      "metadata": {
        "id": "xJckMMZSSEoN"
      },
      "source": [
        "You will need an OpenAI API key to run this notebook. You can get one [here](https://platform.openai.com/account/api-keys)."
      ]
    },
    {
      "cell_type": "code",
      "execution_count": 4,
      "metadata": {
        "colab": {
          "base_uri": "https://localhost:8080/"
        },
        "id": "iBkj7AZJSEoO",
        "outputId": "b7ed5884-9950-4e39-e0df-cdfd588b34df"
      },
      "outputs": [
        {
          "output_type": "stream",
          "name": "stdout",
          "text": [
            "Paste your OpenAI key from: https://platform.openai.com/account/api-keys\n",
            "··········\n",
            "OpenAI API key configured\n"
          ]
        }
      ],
      "source": [
        "if os.getenv(\"OPENAI_API_KEY\") is None:\n",
        "  if any(['VSCODE' in x for x in os.environ.keys()]):\n",
        "    print('Please enter password in the VS Code prompt at the top of your VS Code window!')\n",
        "  os.environ[\"OPENAI_API_KEY\"] = getpass(\"Paste your OpenAI key from: https://platform.openai.com/account/api-keys\\n\")\n",
        "  openai.api_key = os.getenv(\"OPENAI_API_KEY\", \"\")\n",
        "\n",
        "assert os.getenv(\"OPENAI_API_KEY\", \"\").startswith(\"sk-\"), \"This doesn't look like a valid OpenAI API key\"\n",
        "print(\"OpenAI API key configured\")"
      ]
    },
    {
      "cell_type": "markdown",
      "metadata": {
        "id": "A-Hmr-L_SEoQ"
      },
      "source": [
        "Let's enable W&B autologging to track our experiments."
      ]
    },
    {
      "cell_type": "code",
      "execution_count": 5,
      "metadata": {
        "colab": {
          "base_uri": "https://localhost:8080/",
          "height": 187
        },
        "id": "aUN-9tJ_SEoS",
        "outputId": "362e03bc-9b16-40e7-fb6d-b8f2673c72cb"
      },
      "outputs": [
        {
          "output_type": "display_data",
          "data": {
            "text/plain": [
              "<IPython.core.display.Javascript object>"
            ],
            "application/javascript": [
              "\n",
              "        window._wandbApiKey = new Promise((resolve, reject) => {\n",
              "            function loadScript(url) {\n",
              "            return new Promise(function(resolve, reject) {\n",
              "                let newScript = document.createElement(\"script\");\n",
              "                newScript.onerror = reject;\n",
              "                newScript.onload = resolve;\n",
              "                document.body.appendChild(newScript);\n",
              "                newScript.src = url;\n",
              "            });\n",
              "            }\n",
              "            loadScript(\"https://cdn.jsdelivr.net/npm/postmate/build/postmate.min.js\").then(() => {\n",
              "            const iframe = document.createElement('iframe')\n",
              "            iframe.style.cssText = \"width:0;height:0;border:none\"\n",
              "            document.body.appendChild(iframe)\n",
              "            const handshake = new Postmate({\n",
              "                container: iframe,\n",
              "                url: 'https://wandb.ai/authorize'\n",
              "            });\n",
              "            const timeout = setTimeout(() => reject(\"Couldn't auto authenticate\"), 5000)\n",
              "            handshake.then(function(child) {\n",
              "                child.on('authorize', data => {\n",
              "                    clearTimeout(timeout)\n",
              "                    resolve(data)\n",
              "                });\n",
              "            });\n",
              "            })\n",
              "        });\n",
              "    "
            ]
          },
          "metadata": {}
        },
        {
          "output_type": "stream",
          "name": "stderr",
          "text": [
            "\u001b[34m\u001b[1mwandb\u001b[0m: Logging into wandb.ai. (Learn how to deploy a W&B server locally: https://wandb.me/wandb-server)\n",
            "\u001b[34m\u001b[1mwandb\u001b[0m: You can find your API key in your browser here: https://wandb.ai/authorize\n",
            "wandb: Paste an API key from your profile and hit enter, or press ctrl+c to quit:"
          ]
        },
        {
          "name": "stdout",
          "output_type": "stream",
          "text": [
            " ··········\n"
          ]
        },
        {
          "output_type": "stream",
          "name": "stderr",
          "text": [
            "\u001b[34m\u001b[1mwandb\u001b[0m: Appending key for api.wandb.ai to your netrc file: /root/.netrc\n"
          ]
        },
        {
          "output_type": "display_data",
          "data": {
            "text/plain": [
              "<IPython.core.display.HTML object>"
            ],
            "text/html": [
              "Tracking run with wandb version 0.15.8"
            ]
          },
          "metadata": {}
        },
        {
          "output_type": "display_data",
          "data": {
            "text/plain": [
              "<IPython.core.display.HTML object>"
            ],
            "text/html": [
              "Run data is saved locally in <code>/content/wandb/run-20230825_013146-q9u4lewd</code>"
            ]
          },
          "metadata": {}
        },
        {
          "output_type": "display_data",
          "data": {
            "text/plain": [
              "<IPython.core.display.HTML object>"
            ],
            "text/html": [
              "Syncing run <strong><a href='https://wandb.ai/jshetti2/llmapps/runs/q9u4lewd' target=\"_blank\">treasured-firebrand-3</a></strong> to <a href='https://wandb.ai/jshetti2/llmapps' target=\"_blank\">Weights & Biases</a> (<a href='https://wandb.me/run' target=\"_blank\">docs</a>)<br/>"
            ]
          },
          "metadata": {}
        },
        {
          "output_type": "display_data",
          "data": {
            "text/plain": [
              "<IPython.core.display.HTML object>"
            ],
            "text/html": [
              " View project at <a href='https://wandb.ai/jshetti2/llmapps' target=\"_blank\">https://wandb.ai/jshetti2/llmapps</a>"
            ]
          },
          "metadata": {}
        },
        {
          "output_type": "display_data",
          "data": {
            "text/plain": [
              "<IPython.core.display.HTML object>"
            ],
            "text/html": [
              " View run at <a href='https://wandb.ai/jshetti2/llmapps/runs/q9u4lewd' target=\"_blank\">https://wandb.ai/jshetti2/llmapps/runs/q9u4lewd</a>"
            ]
          },
          "metadata": {}
        }
      ],
      "source": [
        "# start logging to W&B\n",
        "autolog({\"project\":\"llmapps\", \"job_type\": \"introduction\"})"
      ]
    },
    {
      "cell_type": "markdown",
      "metadata": {
        "id": "tcDVukLCSEoU"
      },
      "source": [
        "# Tokenization"
      ]
    },
    {
      "cell_type": "code",
      "execution_count": 6,
      "metadata": {
        "colab": {
          "base_uri": "https://localhost:8080/"
        },
        "id": "lMnAR9_lSEoV",
        "outputId": "bfd02ef7-a803-4fcd-c2ca-88a1eff502fb"
      },
      "outputs": [
        {
          "output_type": "stream",
          "name": "stdout",
          "text": [
            "[1135, 2337, 1222, 8436, 1386, 318, 7427, 0]\n",
            "Weights & Biases is awesome!\n"
          ]
        }
      ],
      "source": [
        "encoding = tiktoken.encoding_for_model(\"text-davinci-003\")\n",
        "enc = encoding.encode(\"Weights & Biases is awesome!\")\n",
        "print(enc)\n",
        "print(encoding.decode(enc))"
      ]
    },
    {
      "cell_type": "markdown",
      "metadata": {
        "id": "UsTMk_geSEoZ"
      },
      "source": [
        "we can decode the tokens one by one"
      ]
    },
    {
      "cell_type": "code",
      "execution_count": 7,
      "metadata": {
        "colab": {
          "base_uri": "https://localhost:8080/"
        },
        "id": "0q4B1e8ISEob",
        "outputId": "19577bff-f137-4a5b-cf8c-067a6eb22c61"
      },
      "outputs": [
        {
          "output_type": "stream",
          "name": "stdout",
          "text": [
            "1135\tWe\n",
            "2337\tights\n",
            "1222\t &\n",
            "8436\t Bi\n",
            "1386\tases\n",
            "318\t is\n",
            "7427\t awesome\n",
            "0\t!\n"
          ]
        }
      ],
      "source": [
        "for token_id in enc:\n",
        "    print(f\"{token_id}\\t{encoding.decode([token_id])}\")"
      ]
    },
    {
      "cell_type": "code",
      "source": [
        "j_encoding = tiktoken.get_encoding(\"cl100k_base\")\n",
        "j_enc = j_encoding.encode(\"Hello, my name is Johann. How are you doing?\")\n",
        "print(j_enc)\n",
        "print(j_encoding.decode(enc))"
      ],
      "metadata": {
        "id": "qu_tPZiJTiFr",
        "colab": {
          "base_uri": "https://localhost:8080/"
        },
        "outputId": "a0573008-7a10-4f2b-b92c-916d6f17fbca"
      },
      "execution_count": 9,
      "outputs": [
        {
          "output_type": "stream",
          "name": "stdout",
          "text": [
            "[9906, 11, 856, 836, 374, 88964, 13, 2650, 527, 499, 3815, 30]\n",
            "Hello, my name is Johann. How are you doing?\n"
          ]
        }
      ]
    },
    {
      "cell_type": "code",
      "source": [
        "for token_id in enc:\n",
        "    print(f\"{token_id}\\t{encoding.decode([token_id])}\")"
      ],
      "metadata": {
        "id": "LD2e0sseTiTH",
        "colab": {
          "base_uri": "https://localhost:8080/"
        },
        "outputId": "38bd2afd-5c7f-43dc-c7e4-c1e7d7ae8751"
      },
      "execution_count": 10,
      "outputs": [
        {
          "output_type": "stream",
          "name": "stdout",
          "text": [
            "9906\tHello\n",
            "11\t,\n",
            "856\t my\n",
            "836\t name\n",
            "374\t is\n",
            "88964\t Johann\n",
            "13\t.\n",
            "2650\t How\n",
            "527\t are\n",
            "499\t you\n",
            "3815\t doing\n",
            "30\t?\n"
          ]
        }
      ]
    },
    {
      "cell_type": "markdown",
      "metadata": {
        "id": "nuPCaA7NSEoe"
      },
      "source": [
        "> Note how the leading tokens contain spacing."
      ]
    },
    {
      "cell_type": "markdown",
      "metadata": {
        "id": "hWwZJeNJSEof"
      },
      "source": [
        "# Sampling"
      ]
    },
    {
      "cell_type": "markdown",
      "metadata": {
        "id": "xvWe6npHSEog"
      },
      "source": [
        "Let's sample some text from the model. For this, let's create a wrapper function around the temperature parameters.\n",
        "Higher temperature will result in more random samples."
      ]
    },
    {
      "cell_type": "code",
      "execution_count": null,
      "metadata": {
        "id": "ohXT3RpzSEoi"
      },
      "outputs": [],
      "source": [
        "def generate_with_temperature(temp):\n",
        "  \"Generate text with a given temperature, higher temperature means more randomness\"\n",
        "  response = openai.Completion.create(\n",
        "    model=\"text-davinci-003\",\n",
        "    prompt=\"Say something about Weights & Biases\",\n",
        "    max_tokens=50,\n",
        "    temperature=temp,\n",
        "  )\n",
        "  return response.choices[0].text"
      ]
    },
    {
      "cell_type": "code",
      "execution_count": null,
      "metadata": {
        "id": "Xb-mV4LxSEok"
      },
      "outputs": [],
      "source": [
        "for temp in [0, 0.5, 1, 1.5, 2]:\n",
        "  pprint(f'TEMP: {temp}, GENERATION: {generate_with_temperature(temp)}')"
      ]
    },
    {
      "cell_type": "markdown",
      "metadata": {
        "id": "Eh4lIDwlSEom"
      },
      "source": [
        "You can also use the [`top_p` parameter](https://platform.openai.com/docs/api-reference/completions/create#completions/create-top_p) to control the diversity of the generated text. This parameter controls the cumulative probability of the next token. For example, if `top_p=0.9`, the model will pick the next token from the top 90% most likely tokens. The higher the `top_p` the more likely the model will pick a token that it hasn't seen before. You should only use one of `temperature` or `top_p` at a given time."
      ]
    },
    {
      "cell_type": "code",
      "execution_count": null,
      "metadata": {
        "id": "Jordjof2SEon"
      },
      "outputs": [],
      "source": [
        "def generate_with_topp(topp):\n",
        "  \"Generate text with a given top-p, higher top-p means more randomness\"\n",
        "  response = openai.Completion.create(\n",
        "    model=\"text-davinci-003\",\n",
        "    prompt=\"Say something about Weights & Biases\",\n",
        "    max_tokens=50,\n",
        "    top_p=topp,\n",
        "    )\n",
        "  return response.choices[0].text"
      ]
    },
    {
      "cell_type": "code",
      "execution_count": null,
      "metadata": {
        "id": "dvu4OsCwSEop"
      },
      "outputs": [],
      "source": [
        "for topp in [0.01, 0.1, 0.5, 1]:\n",
        "  pprint(f'TOP_P: {topp}, GENERATION: {generate_with_topp(topp)}')"
      ]
    },
    {
      "cell_type": "markdown",
      "metadata": {
        "id": "H944uEQ1SEor"
      },
      "source": [
        "# Chat API"
      ]
    },
    {
      "cell_type": "markdown",
      "metadata": {
        "id": "91epSMR9SEot"
      },
      "source": [
        "Let's switch to chat mode and see how the model responds to our messages. We have some control over the model's response by passing a `system-role`, here we can steer to model to adhere to a certain behaviour.\n",
        "\n",
        "> We are using `gpt-3.5-turbo`, this model is faster and cheaper than `davinci-003`"
      ]
    },
    {
      "cell_type": "code",
      "execution_count": null,
      "metadata": {
        "id": "j-UHPb5XSEou"
      },
      "outputs": [],
      "source": [
        "MODEL = \"gpt-3.5-turbo\"\n",
        "response = openai.ChatCompletion.create(\n",
        "    model=MODEL,\n",
        "    messages=[\n",
        "        {\"role\": \"system\", \"content\": \"You are a helpful assistant.\"},\n",
        "        {\"role\": \"user\", \"content\": \"Say something about Weights & Biases\"},\n",
        "    ],\n",
        "    temperature=0,\n",
        ")\n",
        "\n",
        "response"
      ]
    },
    {
      "cell_type": "markdown",
      "metadata": {
        "id": "A4l5_Dx3SEow"
      },
      "source": [
        "As you can see above, the response is a JSON object with relevant information about the request."
      ]
    },
    {
      "cell_type": "code",
      "execution_count": null,
      "metadata": {
        "id": "0Lti9QkmSEox"
      },
      "outputs": [],
      "source": [
        "pprint(response.choices[0].message.content)"
      ]
    },
    {
      "cell_type": "code",
      "execution_count": null,
      "metadata": {
        "id": "8XZE9f4ySEoy"
      },
      "outputs": [],
      "source": [
        "wandb.finish()"
      ]
    },
    {
      "cell_type": "code",
      "execution_count": null,
      "metadata": {
        "id": "mmwrnJOASEoz"
      },
      "outputs": [],
      "source": []
    }
  ],
  "metadata": {
    "accelerator": "GPU",
    "colab": {
      "provenance": [],
      "toc_visible": true,
      "include_colab_link": true
    },
    "kernelspec": {
      "display_name": "Python 3 (ipykernel)",
      "language": "python",
      "name": "python3"
    },
    "language_info": {
      "codemirror_mode": {
        "name": "ipython",
        "version": 3
      },
      "file_extension": ".py",
      "mimetype": "text/x-python",
      "name": "python",
      "nbconvert_exporter": "python",
      "pygments_lexer": "ipython3",
      "version": "3.11.3"
    }
  },
  "nbformat": 4,
  "nbformat_minor": 0
}